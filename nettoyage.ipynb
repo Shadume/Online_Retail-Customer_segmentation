{
 "cells": [
  {
   "attachments": {},
   "cell_type": "markdown",
   "metadata": {},
   "source": [
    "# Nettoyage et analyse du dataset"
   ]
  },
  {
   "cell_type": "code",
   "execution_count": 132,
   "metadata": {},
   "outputs": [],
   "source": [
    "import pandas as pd\n",
    "import numpy as np\n",
    "import seaborn as sns\n",
    "from sklearn.cluster import KMeans\n",
    "import plotly.graph_objects as go\n",
    "import datetime\n",
    "import matplotlib.pyplot as plt"
   ]
  },
  {
   "attachments": {},
   "cell_type": "markdown",
   "metadata": {},
   "source": [
    "##### Importation du csv dans un dataframe"
   ]
  },
  {
   "cell_type": "code",
   "execution_count": 133,
   "metadata": {},
   "outputs": [],
   "source": [
    "df_ = pd.read_csv('./online_retail_II.csv')\n",
    "df = df_.copy()"
   ]
  },
  {
   "cell_type": "code",
   "execution_count": 134,
   "metadata": {},
   "outputs": [
    {
     "data": {
      "text/html": [
       "<div>\n",
       "<style scoped>\n",
       "    .dataframe tbody tr th:only-of-type {\n",
       "        vertical-align: middle;\n",
       "    }\n",
       "\n",
       "    .dataframe tbody tr th {\n",
       "        vertical-align: top;\n",
       "    }\n",
       "\n",
       "    .dataframe thead th {\n",
       "        text-align: right;\n",
       "    }\n",
       "</style>\n",
       "<table border=\"1\" class=\"dataframe\">\n",
       "  <thead>\n",
       "    <tr style=\"text-align: right;\">\n",
       "      <th></th>\n",
       "      <th>Invoice</th>\n",
       "      <th>StockCode</th>\n",
       "      <th>Description</th>\n",
       "      <th>Quantity</th>\n",
       "      <th>InvoiceDate</th>\n",
       "      <th>Price</th>\n",
       "      <th>Customer ID</th>\n",
       "      <th>Country</th>\n",
       "    </tr>\n",
       "  </thead>\n",
       "  <tbody>\n",
       "    <tr>\n",
       "      <th>0</th>\n",
       "      <td>489434</td>\n",
       "      <td>85048</td>\n",
       "      <td>15CM CHRISTMAS GLASS BALL 20 LIGHTS</td>\n",
       "      <td>12</td>\n",
       "      <td>2009-12-01 07:45:00</td>\n",
       "      <td>6.95</td>\n",
       "      <td>13085.0</td>\n",
       "      <td>United Kingdom</td>\n",
       "    </tr>\n",
       "    <tr>\n",
       "      <th>1</th>\n",
       "      <td>489434</td>\n",
       "      <td>79323P</td>\n",
       "      <td>PINK CHERRY LIGHTS</td>\n",
       "      <td>12</td>\n",
       "      <td>2009-12-01 07:45:00</td>\n",
       "      <td>6.75</td>\n",
       "      <td>13085.0</td>\n",
       "      <td>United Kingdom</td>\n",
       "    </tr>\n",
       "    <tr>\n",
       "      <th>2</th>\n",
       "      <td>489434</td>\n",
       "      <td>79323W</td>\n",
       "      <td>WHITE CHERRY LIGHTS</td>\n",
       "      <td>12</td>\n",
       "      <td>2009-12-01 07:45:00</td>\n",
       "      <td>6.75</td>\n",
       "      <td>13085.0</td>\n",
       "      <td>United Kingdom</td>\n",
       "    </tr>\n",
       "    <tr>\n",
       "      <th>3</th>\n",
       "      <td>489434</td>\n",
       "      <td>22041</td>\n",
       "      <td>RECORD FRAME 7\" SINGLE SIZE</td>\n",
       "      <td>48</td>\n",
       "      <td>2009-12-01 07:45:00</td>\n",
       "      <td>2.10</td>\n",
       "      <td>13085.0</td>\n",
       "      <td>United Kingdom</td>\n",
       "    </tr>\n",
       "    <tr>\n",
       "      <th>4</th>\n",
       "      <td>489434</td>\n",
       "      <td>21232</td>\n",
       "      <td>STRAWBERRY CERAMIC TRINKET BOX</td>\n",
       "      <td>24</td>\n",
       "      <td>2009-12-01 07:45:00</td>\n",
       "      <td>1.25</td>\n",
       "      <td>13085.0</td>\n",
       "      <td>United Kingdom</td>\n",
       "    </tr>\n",
       "  </tbody>\n",
       "</table>\n",
       "</div>"
      ],
      "text/plain": [
       "  Invoice StockCode                          Description  Quantity  \\\n",
       "0  489434     85048  15CM CHRISTMAS GLASS BALL 20 LIGHTS        12   \n",
       "1  489434    79323P                   PINK CHERRY LIGHTS        12   \n",
       "2  489434    79323W                  WHITE CHERRY LIGHTS        12   \n",
       "3  489434     22041         RECORD FRAME 7\" SINGLE SIZE         48   \n",
       "4  489434     21232       STRAWBERRY CERAMIC TRINKET BOX        24   \n",
       "\n",
       "           InvoiceDate  Price  Customer ID         Country  \n",
       "0  2009-12-01 07:45:00   6.95      13085.0  United Kingdom  \n",
       "1  2009-12-01 07:45:00   6.75      13085.0  United Kingdom  \n",
       "2  2009-12-01 07:45:00   6.75      13085.0  United Kingdom  \n",
       "3  2009-12-01 07:45:00   2.10      13085.0  United Kingdom  \n",
       "4  2009-12-01 07:45:00   1.25      13085.0  United Kingdom  "
      ]
     },
     "execution_count": 134,
     "metadata": {},
     "output_type": "execute_result"
    }
   ],
   "source": [
    "df.head()"
   ]
  },
  {
   "attachments": {},
   "cell_type": "markdown",
   "metadata": {},
   "source": [
    "Attribute Information:\n",
    "- InvoiceNo: Invoice number. Nominal. A 6-digit integral number uniquely assigned to each transaction. If this code starts with the letter 'c', it indicates a cancellation.\n",
    "- StockCode: Product (item) code. Nominal. A 5-digit integral number uniquely assigned to each distinct product.\n",
    "- Description: Product (item) name. Nominal.\n",
    "- Quantity: The quantities of each product (item) per transaction. Numeric.\n",
    "- InvoiceDate: Invice date and time. Numeric. The day and time when a transaction was generated.\n",
    "- Price: Unit price. Numeric. Product price per unit in sterling (Â£).\n",
    "- CustomerID: Customer number. Nominal. A 5-digit integral number uniquely assigned to each customer.\n",
    "- Country: Country name. Nominal. The name of the country where a customer resides."
   ]
  },
  {
   "attachments": {},
   "cell_type": "markdown",
   "metadata": {},
   "source": [
    "## Nettoyage des données"
   ]
  },
  {
   "cell_type": "code",
   "execution_count": 135,
   "metadata": {},
   "outputs": [
    {
     "name": "stdout",
     "output_type": "stream",
     "text": [
      "<class 'pandas.core.frame.DataFrame'>\n",
      "RangeIndex: 1067371 entries, 0 to 1067370\n",
      "Data columns (total 8 columns):\n",
      " #   Column       Non-Null Count    Dtype  \n",
      "---  ------       --------------    -----  \n",
      " 0   Invoice      1067371 non-null  object \n",
      " 1   StockCode    1067371 non-null  object \n",
      " 2   Description  1062989 non-null  object \n",
      " 3   Quantity     1067371 non-null  int64  \n",
      " 4   InvoiceDate  1067371 non-null  object \n",
      " 5   Price        1067371 non-null  float64\n",
      " 6   Customer ID  824364 non-null   float64\n",
      " 7   Country      1067371 non-null  object \n",
      "dtypes: float64(2), int64(1), object(5)\n",
      "memory usage: 65.1+ MB\n"
     ]
    }
   ],
   "source": [
    "df.info()"
   ]
  },
  {
   "attachments": {},
   "cell_type": "markdown",
   "metadata": {},
   "source": [
    "Différentes remarques sur ces informations :\n",
    "- La colonne 'InvoiceDate' est de type objet au lieu d'être en date.  \n",
    "- La plupart des colonnes ont 1067371 lignes à l'exception de 'Description' et 'Customer ID', il y a donc des informations manquantes. La colonne 'Description' n'est pas vraiment utile, mais celle des 'Customer ID' étant primordiale nous allons supprimer les lignes où l'ID manque.  \n",
    "- La colonne 'Customer ID' est de type float64 alors qu'un type int64 est certainement suffisant.  \n",
    "- Il n'y a pas de colonne pour décrire le prix total en fonction de la quantité d'articles achetée, ce qui pourrait être une information intéressante.  "
   ]
  },
  {
   "attachments": {},
   "cell_type": "markdown",
   "metadata": {},
   "source": [
    "### Suppression des lignes identiques"
   ]
  },
  {
   "attachments": {},
   "cell_type": "markdown",
   "metadata": {},
   "source": [
    "Voyons maintenant s'il y a des doublons, s'il y en a nous les supprimerons"
   ]
  },
  {
   "cell_type": "code",
   "execution_count": 136,
   "metadata": {},
   "outputs": [
    {
     "data": {
      "text/plain": [
       "(34335, 8)"
      ]
     },
     "execution_count": 136,
     "metadata": {},
     "output_type": "execute_result"
    }
   ],
   "source": [
    "df[df.duplicated()].shape"
   ]
  },
  {
   "cell_type": "code",
   "execution_count": 137,
   "metadata": {},
   "outputs": [
    {
     "data": {
      "text/plain": [
       "(0, 8)"
      ]
     },
     "execution_count": 137,
     "metadata": {},
     "output_type": "execute_result"
    }
   ],
   "source": [
    "df = df.drop_duplicates(keep='first')\n",
    "df[df.duplicated()].shape"
   ]
  },
  {
   "attachments": {},
   "cell_type": "markdown",
   "metadata": {},
   "source": [
    "### Recherche et suppression des valeurs manquantes (Customer ID)"
   ]
  },
  {
   "cell_type": "code",
   "execution_count": 138,
   "metadata": {},
   "outputs": [
    {
     "name": "stdout",
     "output_type": "stream",
     "text": [
      "<bound method Series.sort_values of Invoice             0\n",
      "StockCode           0\n",
      "Description      4275\n",
      "Quantity            0\n",
      "InvoiceDate         0\n",
      "Price               0\n",
      "Customer ID    235151\n",
      "Country             0\n",
      "dtype: int64>\n"
     ]
    }
   ],
   "source": [
    "nan_count = df.isna().sum()\n",
    "print(nan_count.sort_values)"
   ]
  },
  {
   "cell_type": "code",
   "execution_count": 139,
   "metadata": {},
   "outputs": [],
   "source": [
    "df = df[df['Customer ID'].notna()]"
   ]
  },
  {
   "attachments": {},
   "cell_type": "markdown",
   "metadata": {},
   "source": [
    "### Conversion des données"
   ]
  },
  {
   "cell_type": "code",
   "execution_count": 140,
   "metadata": {},
   "outputs": [],
   "source": [
    "df[\"InvoiceDate\"] = pd.to_datetime(df[\"InvoiceDate\"])"
   ]
  },
  {
   "cell_type": "code",
   "execution_count": 141,
   "metadata": {},
   "outputs": [],
   "source": [
    "df['Customer ID'] = df['Customer ID'].astype(np.int64)"
   ]
  },
  {
   "attachments": {},
   "cell_type": "markdown",
   "metadata": {},
   "source": [
    "### Nettoyage tourné \"métier\""
   ]
  },
  {
   "cell_type": "code",
   "execution_count": 142,
   "metadata": {},
   "outputs": [
    {
     "data": {
      "text/html": [
       "<div>\n",
       "<style scoped>\n",
       "    .dataframe tbody tr th:only-of-type {\n",
       "        vertical-align: middle;\n",
       "    }\n",
       "\n",
       "    .dataframe tbody tr th {\n",
       "        vertical-align: top;\n",
       "    }\n",
       "\n",
       "    .dataframe thead th {\n",
       "        text-align: right;\n",
       "    }\n",
       "</style>\n",
       "<table border=\"1\" class=\"dataframe\">\n",
       "  <thead>\n",
       "    <tr style=\"text-align: right;\">\n",
       "      <th></th>\n",
       "      <th>Quantity</th>\n",
       "      <th>Price</th>\n",
       "      <th>Customer ID</th>\n",
       "    </tr>\n",
       "  </thead>\n",
       "  <tbody>\n",
       "    <tr>\n",
       "      <th>count</th>\n",
       "      <td>797885.000000</td>\n",
       "      <td>797885.000000</td>\n",
       "      <td>797885.000000</td>\n",
       "    </tr>\n",
       "    <tr>\n",
       "      <th>mean</th>\n",
       "      <td>12.602980</td>\n",
       "      <td>3.702732</td>\n",
       "      <td>15313.062777</td>\n",
       "    </tr>\n",
       "    <tr>\n",
       "      <th>std</th>\n",
       "      <td>191.670371</td>\n",
       "      <td>71.392549</td>\n",
       "      <td>1696.466663</td>\n",
       "    </tr>\n",
       "    <tr>\n",
       "      <th>min</th>\n",
       "      <td>-80995.000000</td>\n",
       "      <td>0.000000</td>\n",
       "      <td>12346.000000</td>\n",
       "    </tr>\n",
       "    <tr>\n",
       "      <th>25%</th>\n",
       "      <td>2.000000</td>\n",
       "      <td>1.250000</td>\n",
       "      <td>13964.000000</td>\n",
       "    </tr>\n",
       "    <tr>\n",
       "      <th>50%</th>\n",
       "      <td>5.000000</td>\n",
       "      <td>1.950000</td>\n",
       "      <td>15228.000000</td>\n",
       "    </tr>\n",
       "    <tr>\n",
       "      <th>75%</th>\n",
       "      <td>12.000000</td>\n",
       "      <td>3.750000</td>\n",
       "      <td>16788.000000</td>\n",
       "    </tr>\n",
       "    <tr>\n",
       "      <th>max</th>\n",
       "      <td>80995.000000</td>\n",
       "      <td>38970.000000</td>\n",
       "      <td>18287.000000</td>\n",
       "    </tr>\n",
       "  </tbody>\n",
       "</table>\n",
       "</div>"
      ],
      "text/plain": [
       "            Quantity          Price    Customer ID\n",
       "count  797885.000000  797885.000000  797885.000000\n",
       "mean       12.602980       3.702732   15313.062777\n",
       "std       191.670371      71.392549    1696.466663\n",
       "min    -80995.000000       0.000000   12346.000000\n",
       "25%         2.000000       1.250000   13964.000000\n",
       "50%         5.000000       1.950000   15228.000000\n",
       "75%        12.000000       3.750000   16788.000000\n",
       "max     80995.000000   38970.000000   18287.000000"
      ]
     },
     "execution_count": 142,
     "metadata": {},
     "output_type": "execute_result"
    }
   ],
   "source": [
    "df.describe()"
   ]
  },
  {
   "attachments": {},
   "cell_type": "markdown",
   "metadata": {},
   "source": [
    "On va essayer d'identifier dans le dataset les lignes qui ne correspondent pas à des achats"
   ]
  },
  {
   "attachments": {},
   "cell_type": "markdown",
   "metadata": {},
   "source": [
    "- Les prix négatifs correspondent à des annulations de commande, identifiées par un C dans le numéro de facture. On conserve ces lignes"
   ]
  },
  {
   "attachments": {},
   "cell_type": "markdown",
   "metadata": {},
   "source": [
    "- Certains articles sont au prix de 0€, il s'agit sans doute de cadeau, cela ne donne donc pas d'informations sur le comportement **d'achat** des clients. On va supprimer ces lignes"
   ]
  },
  {
   "cell_type": "code",
   "execution_count": 143,
   "metadata": {},
   "outputs": [],
   "source": [
    "df= df[df['Price']> 0]"
   ]
  },
  {
   "attachments": {},
   "cell_type": "markdown",
   "metadata": {},
   "source": [
    "- On va recherche si certaines lignes correspondent à des tests ou des frais de ports"
   ]
  },
  {
   "cell_type": "code",
   "execution_count": 144,
   "metadata": {},
   "outputs": [
    {
     "name": "stdout",
     "output_type": "stream",
     "text": [
      "Empty DataFrame\n",
      "Columns: [Invoice, StockCode, Description, Quantity, InvoiceDate, Price, Customer ID, Country]\n",
      "Index: []\n"
     ]
    }
   ],
   "source": [
    "shipping_fees_data = df[df['Description'].str.contains('shipping|fees', case=False)]\n",
    "\n",
    "print(shipping_fees_data)\n"
   ]
  },
  {
   "attachments": {},
   "cell_type": "markdown",
   "metadata": {},
   "source": [
    "On a remarqué que certains stocks code ne contiennent que des lettres (hors un stock code est censé être composé de 5 chiffres). On va essayer de comprendre à quoi correspondent ces stock codes."
   ]
  },
  {
   "cell_type": "code",
   "execution_count": 145,
   "metadata": {},
   "outputs": [
    {
     "name": "stdout",
     "output_type": "stream",
     "text": [
      "['POST' 'D' 'M' 'PADS' 'ADJUST' 'DOT' 'CRUK']\n"
     ]
    }
   ],
   "source": [
    "letters_only_stockcodes = df[df['StockCode'].str.isalpha()]['StockCode'].unique()\n",
    "print(letters_only_stockcodes)\n"
   ]
  },
  {
   "attachments": {},
   "cell_type": "markdown",
   "metadata": {},
   "source": [
    "- POST : Postage, ce code correspond aux frais de port, on décide de supprimer ces lignes"
   ]
  },
  {
   "cell_type": "code",
   "execution_count": 146,
   "metadata": {},
   "outputs": [
    {
     "name": "stdout",
     "output_type": "stream",
     "text": [
      "POSTAGE\n"
     ]
    }
   ],
   "source": [
    "# On va afficher les descriptions uniques associées au Stock code POST\n",
    "filtered_df = df[df['StockCode'] == 'POST']\n",
    "unique_descriptions = filtered_df['Description'].unique()\n",
    "for description in unique_descriptions:\n",
    "    print(description)\n"
   ]
  },
  {
   "attachments": {},
   "cell_type": "markdown",
   "metadata": {},
   "source": [
    "- M : Manual, correspondant à des lignes entrées manuellement, on converserve ces lignes"
   ]
  },
  {
   "cell_type": "code",
   "execution_count": 147,
   "metadata": {},
   "outputs": [
    {
     "name": "stdout",
     "output_type": "stream",
     "text": [
      "Manual\n"
     ]
    }
   ],
   "source": [
    "# On va afficher les descriptions uniques associées au Stock code M\n",
    "filtered_df = df[df['StockCode'] == 'M']\n",
    "unique_descriptions = filtered_df['Description'].unique()\n",
    "for description in unique_descriptions:\n",
    "    print(description)\n"
   ]
  },
  {
   "attachments": {},
   "cell_type": "markdown",
   "metadata": {},
   "source": [
    "- D : Discount : correspond à des remises, on supprime également ces lignes"
   ]
  },
  {
   "cell_type": "code",
   "execution_count": 148,
   "metadata": {},
   "outputs": [
    {
     "name": "stdout",
     "output_type": "stream",
     "text": [
      "Discount\n"
     ]
    }
   ],
   "source": [
    "# On va afficher les descriptions uniques associées au Stock code D\n",
    "filtered_df = df[df['StockCode'] == 'D']\n",
    "unique_descriptions = filtered_df['Description'].unique()\n",
    "for description in unique_descriptions:\n",
    "    print(description)"
   ]
  },
  {
   "attachments": {},
   "cell_type": "markdown",
   "metadata": {},
   "source": [
    "- PADS : Pads to match all cushions, cela semble correspondre à un produit, (pads = coussins), on conserve ces lignes"
   ]
  },
  {
   "cell_type": "code",
   "execution_count": 149,
   "metadata": {},
   "outputs": [
    {
     "name": "stdout",
     "output_type": "stream",
     "text": [
      "PADS TO MATCH ALL CUSHIONS\n"
     ]
    }
   ],
   "source": [
    "# On va afficher les descriptions uniques associées au Stock code PADS\n",
    "filtered_df = df[df['StockCode'] == 'PADS']\n",
    "unique_descriptions = filtered_df['Description'].unique()\n",
    "for description in unique_descriptions:\n",
    "    print(description)\n"
   ]
  },
  {
   "attachments": {},
   "cell_type": "markdown",
   "metadata": {},
   "source": [
    "- ADJUST : Adjustment by john on 26/01/2010 16\t, ce code semble utiliser pour enregistrer les ajustements manuels ou les corrections apportées aux données, tels que les modifications de prix, les remises, les retours ou les corrections d'erreurs dans les transactions. On décide de supprimer ces lignes car elles ne donnent pas d'informations sur le comportement du client."
   ]
  },
  {
   "cell_type": "code",
   "execution_count": 150,
   "metadata": {},
   "outputs": [
    {
     "data": {
      "text/html": [
       "<div>\n",
       "<style scoped>\n",
       "    .dataframe tbody tr th:only-of-type {\n",
       "        vertical-align: middle;\n",
       "    }\n",
       "\n",
       "    .dataframe tbody tr th {\n",
       "        vertical-align: top;\n",
       "    }\n",
       "\n",
       "    .dataframe thead th {\n",
       "        text-align: right;\n",
       "    }\n",
       "</style>\n",
       "<table border=\"1\" class=\"dataframe\">\n",
       "  <thead>\n",
       "    <tr style=\"text-align: right;\">\n",
       "      <th></th>\n",
       "      <th>Invoice</th>\n",
       "      <th>StockCode</th>\n",
       "      <th>Description</th>\n",
       "      <th>Quantity</th>\n",
       "      <th>InvoiceDate</th>\n",
       "      <th>Price</th>\n",
       "      <th>Customer ID</th>\n",
       "      <th>Country</th>\n",
       "    </tr>\n",
       "  </thead>\n",
       "  <tbody>\n",
       "    <tr>\n",
       "      <th>70976</th>\n",
       "      <td>495733</td>\n",
       "      <td>ADJUST</td>\n",
       "      <td>Adjustment by john on 26/01/2010 16</td>\n",
       "      <td>1</td>\n",
       "      <td>2010-01-26 16:21:00</td>\n",
       "      <td>68.34</td>\n",
       "      <td>14911</td>\n",
       "      <td>EIRE</td>\n",
       "    </tr>\n",
       "    <tr>\n",
       "      <th>70977</th>\n",
       "      <td>495735</td>\n",
       "      <td>ADJUST</td>\n",
       "      <td>Adjustment by john on 26/01/2010 16</td>\n",
       "      <td>1</td>\n",
       "      <td>2010-01-26 16:22:00</td>\n",
       "      <td>201.56</td>\n",
       "      <td>12745</td>\n",
       "      <td>EIRE</td>\n",
       "    </tr>\n",
       "    <tr>\n",
       "      <th>70978</th>\n",
       "      <td>495734</td>\n",
       "      <td>ADJUST</td>\n",
       "      <td>Adjustment by john on 26/01/2010 16</td>\n",
       "      <td>1</td>\n",
       "      <td>2010-01-26 16:22:00</td>\n",
       "      <td>205.82</td>\n",
       "      <td>14911</td>\n",
       "      <td>EIRE</td>\n",
       "    </tr>\n",
       "    <tr>\n",
       "      <th>70979</th>\n",
       "      <td>C495737</td>\n",
       "      <td>ADJUST</td>\n",
       "      <td>Adjustment by john on 26/01/2010 16</td>\n",
       "      <td>-1</td>\n",
       "      <td>2010-01-26 16:23:00</td>\n",
       "      <td>10.50</td>\n",
       "      <td>16154</td>\n",
       "      <td>United Kingdom</td>\n",
       "    </tr>\n",
       "    <tr>\n",
       "      <th>70980</th>\n",
       "      <td>495736</td>\n",
       "      <td>ADJUST</td>\n",
       "      <td>Adjustment by john on 26/01/2010 16</td>\n",
       "      <td>1</td>\n",
       "      <td>2010-01-26 16:23:00</td>\n",
       "      <td>21.00</td>\n",
       "      <td>12606</td>\n",
       "      <td>Spain</td>\n",
       "    </tr>\n",
       "  </tbody>\n",
       "</table>\n",
       "</div>"
      ],
      "text/plain": [
       "       Invoice StockCode                          Description  Quantity  \\\n",
       "70976   495733    ADJUST  Adjustment by john on 26/01/2010 16         1   \n",
       "70977   495735    ADJUST  Adjustment by john on 26/01/2010 16         1   \n",
       "70978   495734    ADJUST  Adjustment by john on 26/01/2010 16         1   \n",
       "70979  C495737    ADJUST  Adjustment by john on 26/01/2010 16        -1   \n",
       "70980   495736    ADJUST  Adjustment by john on 26/01/2010 16         1   \n",
       "\n",
       "              InvoiceDate   Price  Customer ID         Country  \n",
       "70976 2010-01-26 16:21:00   68.34        14911            EIRE  \n",
       "70977 2010-01-26 16:22:00  201.56        12745            EIRE  \n",
       "70978 2010-01-26 16:22:00  205.82        14911            EIRE  \n",
       "70979 2010-01-26 16:23:00   10.50        16154  United Kingdom  \n",
       "70980 2010-01-26 16:23:00   21.00        12606           Spain  "
      ]
     },
     "execution_count": 150,
     "metadata": {},
     "output_type": "execute_result"
    }
   ],
   "source": [
    "filtered_df = df[df['StockCode'] == 'ADJUST']\n",
    "filtered_df.head(5)"
   ]
  },
  {
   "attachments": {},
   "cell_type": "markdown",
   "metadata": {},
   "source": [
    "- DOT : DOTCOM POSTAGE, cela doit correspondre à des frais de port à l'instar du code POST, on supprime ces lignes"
   ]
  },
  {
   "attachments": {},
   "cell_type": "markdown",
   "metadata": {},
   "source": [
    "- CRUK : CRUK Commission, on va supprimer ces lignes"
   ]
  },
  {
   "cell_type": "code",
   "execution_count": 154,
   "metadata": {},
   "outputs": [
    {
     "name": "stdout",
     "output_type": "stream",
     "text": [
      "CRUK Commission\n"
     ]
    }
   ],
   "source": [
    "# On va afficher les descriptions uniques associées au Stock code CRUK\n",
    "unique_descriptions = filtered_df['Description'].unique()\n",
    "for description in unique_descriptions:\n",
    "    print(description)\n"
   ]
  },
  {
   "attachments": {},
   "cell_type": "markdown",
   "metadata": {},
   "source": [
    "### Feature Engineering"
   ]
  },
  {
   "attachments": {},
   "cell_type": "markdown",
   "metadata": {},
   "source": [
    "#### Feature : Total Price"
   ]
  },
  {
   "attachments": {},
   "cell_type": "markdown",
   "metadata": {},
   "source": [
    "Création d'une colonne 'Total' pour avoir le prix selon la quantité achetée"
   ]
  },
  {
   "cell_type": "code",
   "execution_count": 156,
   "metadata": {},
   "outputs": [
    {
     "data": {
      "text/html": [
       "<div>\n",
       "<style scoped>\n",
       "    .dataframe tbody tr th:only-of-type {\n",
       "        vertical-align: middle;\n",
       "    }\n",
       "\n",
       "    .dataframe tbody tr th {\n",
       "        vertical-align: top;\n",
       "    }\n",
       "\n",
       "    .dataframe thead th {\n",
       "        text-align: right;\n",
       "    }\n",
       "</style>\n",
       "<table border=\"1\" class=\"dataframe\">\n",
       "  <thead>\n",
       "    <tr style=\"text-align: right;\">\n",
       "      <th></th>\n",
       "      <th>Invoice</th>\n",
       "      <th>StockCode</th>\n",
       "      <th>Description</th>\n",
       "      <th>Quantity</th>\n",
       "      <th>InvoiceDate</th>\n",
       "      <th>Price</th>\n",
       "      <th>Customer ID</th>\n",
       "      <th>Country</th>\n",
       "      <th>TotalPrice</th>\n",
       "    </tr>\n",
       "  </thead>\n",
       "  <tbody>\n",
       "    <tr>\n",
       "      <th>0</th>\n",
       "      <td>489434</td>\n",
       "      <td>85048</td>\n",
       "      <td>15CM CHRISTMAS GLASS BALL 20 LIGHTS</td>\n",
       "      <td>12</td>\n",
       "      <td>2009-12-01 07:45:00</td>\n",
       "      <td>6.95</td>\n",
       "      <td>13085</td>\n",
       "      <td>United Kingdom</td>\n",
       "      <td>83.4</td>\n",
       "    </tr>\n",
       "    <tr>\n",
       "      <th>1</th>\n",
       "      <td>489434</td>\n",
       "      <td>79323P</td>\n",
       "      <td>PINK CHERRY LIGHTS</td>\n",
       "      <td>12</td>\n",
       "      <td>2009-12-01 07:45:00</td>\n",
       "      <td>6.75</td>\n",
       "      <td>13085</td>\n",
       "      <td>United Kingdom</td>\n",
       "      <td>81.0</td>\n",
       "    </tr>\n",
       "    <tr>\n",
       "      <th>2</th>\n",
       "      <td>489434</td>\n",
       "      <td>79323W</td>\n",
       "      <td>WHITE CHERRY LIGHTS</td>\n",
       "      <td>12</td>\n",
       "      <td>2009-12-01 07:45:00</td>\n",
       "      <td>6.75</td>\n",
       "      <td>13085</td>\n",
       "      <td>United Kingdom</td>\n",
       "      <td>81.0</td>\n",
       "    </tr>\n",
       "    <tr>\n",
       "      <th>3</th>\n",
       "      <td>489434</td>\n",
       "      <td>22041</td>\n",
       "      <td>RECORD FRAME 7\" SINGLE SIZE</td>\n",
       "      <td>48</td>\n",
       "      <td>2009-12-01 07:45:00</td>\n",
       "      <td>2.10</td>\n",
       "      <td>13085</td>\n",
       "      <td>United Kingdom</td>\n",
       "      <td>100.8</td>\n",
       "    </tr>\n",
       "    <tr>\n",
       "      <th>4</th>\n",
       "      <td>489434</td>\n",
       "      <td>21232</td>\n",
       "      <td>STRAWBERRY CERAMIC TRINKET BOX</td>\n",
       "      <td>24</td>\n",
       "      <td>2009-12-01 07:45:00</td>\n",
       "      <td>1.25</td>\n",
       "      <td>13085</td>\n",
       "      <td>United Kingdom</td>\n",
       "      <td>30.0</td>\n",
       "    </tr>\n",
       "  </tbody>\n",
       "</table>\n",
       "</div>"
      ],
      "text/plain": [
       "  Invoice StockCode                          Description  Quantity  \\\n",
       "0  489434     85048  15CM CHRISTMAS GLASS BALL 20 LIGHTS        12   \n",
       "1  489434    79323P                   PINK CHERRY LIGHTS        12   \n",
       "2  489434    79323W                  WHITE CHERRY LIGHTS        12   \n",
       "3  489434     22041         RECORD FRAME 7\" SINGLE SIZE         48   \n",
       "4  489434     21232       STRAWBERRY CERAMIC TRINKET BOX        24   \n",
       "\n",
       "          InvoiceDate  Price  Customer ID         Country  TotalPrice  \n",
       "0 2009-12-01 07:45:00   6.95        13085  United Kingdom        83.4  \n",
       "1 2009-12-01 07:45:00   6.75        13085  United Kingdom        81.0  \n",
       "2 2009-12-01 07:45:00   6.75        13085  United Kingdom        81.0  \n",
       "3 2009-12-01 07:45:00   2.10        13085  United Kingdom       100.8  \n",
       "4 2009-12-01 07:45:00   1.25        13085  United Kingdom        30.0  "
      ]
     },
     "execution_count": 156,
     "metadata": {},
     "output_type": "execute_result"
    }
   ],
   "source": [
    "df['TotalPrice'] = df['Quantity'] * df['Price']\n",
    "df.head()"
   ]
  },
  {
   "attachments": {},
   "cell_type": "markdown",
   "metadata": {},
   "source": [
    "#### Feature : Cancelled"
   ]
  },
  {
   "attachments": {},
   "cell_type": "markdown",
   "metadata": {},
   "source": [
    "Création d'une colonne \"cancelled\" (1 ou 0) pour pouvoir compter le nombre de retours effectués par chaque client au moment du groupby de manière plus pratique qu'avec le C dans le code facture."
   ]
  },
  {
   "cell_type": "code",
   "execution_count": 157,
   "metadata": {},
   "outputs": [],
   "source": [
    "df[\"cancelled\"] = np.where(df[\"Quantity\"] < 0, 1, 0)"
   ]
  },
  {
   "cell_type": "code",
   "execution_count": 158,
   "metadata": {},
   "outputs": [
    {
     "data": {
      "text/html": [
       "<div>\n",
       "<style scoped>\n",
       "    .dataframe tbody tr th:only-of-type {\n",
       "        vertical-align: middle;\n",
       "    }\n",
       "\n",
       "    .dataframe tbody tr th {\n",
       "        vertical-align: top;\n",
       "    }\n",
       "\n",
       "    .dataframe thead th {\n",
       "        text-align: right;\n",
       "    }\n",
       "</style>\n",
       "<table border=\"1\" class=\"dataframe\">\n",
       "  <thead>\n",
       "    <tr style=\"text-align: right;\">\n",
       "      <th></th>\n",
       "      <th>Invoice</th>\n",
       "      <th>StockCode</th>\n",
       "      <th>Description</th>\n",
       "      <th>Quantity</th>\n",
       "      <th>InvoiceDate</th>\n",
       "      <th>Price</th>\n",
       "      <th>Customer ID</th>\n",
       "      <th>Country</th>\n",
       "      <th>TotalPrice</th>\n",
       "      <th>cancelled</th>\n",
       "    </tr>\n",
       "  </thead>\n",
       "  <tbody>\n",
       "    <tr>\n",
       "      <th>1065883</th>\n",
       "      <td>C581484</td>\n",
       "      <td>23843</td>\n",
       "      <td>PAPER CRAFT , LITTLE BIRDIE</td>\n",
       "      <td>-80995</td>\n",
       "      <td>2011-12-09 09:27:00</td>\n",
       "      <td>2.08</td>\n",
       "      <td>16446</td>\n",
       "      <td>United Kingdom</td>\n",
       "      <td>-168469.60</td>\n",
       "      <td>1</td>\n",
       "    </tr>\n",
       "    <tr>\n",
       "      <th>587085</th>\n",
       "      <td>C541433</td>\n",
       "      <td>23166</td>\n",
       "      <td>MEDIUM CERAMIC TOP STORAGE JAR</td>\n",
       "      <td>-74215</td>\n",
       "      <td>2011-01-18 10:17:00</td>\n",
       "      <td>1.04</td>\n",
       "      <td>12346</td>\n",
       "      <td>United Kingdom</td>\n",
       "      <td>-77183.60</td>\n",
       "      <td>1</td>\n",
       "    </tr>\n",
       "    <tr>\n",
       "      <th>507225</th>\n",
       "      <td>C536757</td>\n",
       "      <td>84347</td>\n",
       "      <td>ROTATING SILVER ANGELS T-LIGHT HLDR</td>\n",
       "      <td>-9360</td>\n",
       "      <td>2010-12-02 14:23:00</td>\n",
       "      <td>0.03</td>\n",
       "      <td>15838</td>\n",
       "      <td>United Kingdom</td>\n",
       "      <td>-280.80</td>\n",
       "      <td>1</td>\n",
       "    </tr>\n",
       "    <tr>\n",
       "      <th>359669</th>\n",
       "      <td>C524235</td>\n",
       "      <td>21088</td>\n",
       "      <td>SET/6 FRUIT SALAD PAPER CUPS</td>\n",
       "      <td>-7128</td>\n",
       "      <td>2010-09-28 11:02:00</td>\n",
       "      <td>0.08</td>\n",
       "      <td>14277</td>\n",
       "      <td>France</td>\n",
       "      <td>-570.24</td>\n",
       "      <td>1</td>\n",
       "    </tr>\n",
       "    <tr>\n",
       "      <th>359670</th>\n",
       "      <td>C524235</td>\n",
       "      <td>21096</td>\n",
       "      <td>SET/6 FRUIT SALAD  PAPER PLATES</td>\n",
       "      <td>-7008</td>\n",
       "      <td>2010-09-28 11:02:00</td>\n",
       "      <td>0.13</td>\n",
       "      <td>14277</td>\n",
       "      <td>France</td>\n",
       "      <td>-911.04</td>\n",
       "      <td>1</td>\n",
       "    </tr>\n",
       "    <tr>\n",
       "      <th>...</th>\n",
       "      <td>...</td>\n",
       "      <td>...</td>\n",
       "      <td>...</td>\n",
       "      <td>...</td>\n",
       "      <td>...</td>\n",
       "      <td>...</td>\n",
       "      <td>...</td>\n",
       "      <td>...</td>\n",
       "      <td>...</td>\n",
       "      <td>...</td>\n",
       "    </tr>\n",
       "    <tr>\n",
       "      <th>103623</th>\n",
       "      <td>C499282</td>\n",
       "      <td>21166</td>\n",
       "      <td>COOK WITH WINE METAL SIGN</td>\n",
       "      <td>-432</td>\n",
       "      <td>2010-02-25 18:55:00</td>\n",
       "      <td>1.69</td>\n",
       "      <td>16684</td>\n",
       "      <td>United Kingdom</td>\n",
       "      <td>-730.08</td>\n",
       "      <td>1</td>\n",
       "    </tr>\n",
       "    <tr>\n",
       "      <th>814595</th>\n",
       "      <td>C562221</td>\n",
       "      <td>22151</td>\n",
       "      <td>PLACE SETTING WHITE HEART</td>\n",
       "      <td>-432</td>\n",
       "      <td>2011-08-03 14:22:00</td>\n",
       "      <td>0.36</td>\n",
       "      <td>16525</td>\n",
       "      <td>United Kingdom</td>\n",
       "      <td>-155.52</td>\n",
       "      <td>1</td>\n",
       "    </tr>\n",
       "    <tr>\n",
       "      <th>845372</th>\n",
       "      <td>C564940</td>\n",
       "      <td>22564</td>\n",
       "      <td>ALPHABET STENCIL CRAFT</td>\n",
       "      <td>-432</td>\n",
       "      <td>2011-08-31 13:10:00</td>\n",
       "      <td>1.06</td>\n",
       "      <td>12931</td>\n",
       "      <td>United Kingdom</td>\n",
       "      <td>-457.92</td>\n",
       "      <td>1</td>\n",
       "    </tr>\n",
       "    <tr>\n",
       "      <th>252972</th>\n",
       "      <td>C513771</td>\n",
       "      <td>22333</td>\n",
       "      <td>RETRO SPORT PARTY BAG + STICKER SET</td>\n",
       "      <td>-432</td>\n",
       "      <td>2010-06-28 13:49:00</td>\n",
       "      <td>1.45</td>\n",
       "      <td>16754</td>\n",
       "      <td>United Kingdom</td>\n",
       "      <td>-626.40</td>\n",
       "      <td>1</td>\n",
       "    </tr>\n",
       "    <tr>\n",
       "      <th>359649</th>\n",
       "      <td>C524235</td>\n",
       "      <td>84927D</td>\n",
       "      <td>LA PALMIERA TILE HOOK</td>\n",
       "      <td>-432</td>\n",
       "      <td>2010-09-28 11:02:00</td>\n",
       "      <td>0.08</td>\n",
       "      <td>14277</td>\n",
       "      <td>France</td>\n",
       "      <td>-34.56</td>\n",
       "      <td>1</td>\n",
       "    </tr>\n",
       "  </tbody>\n",
       "</table>\n",
       "<p>100 rows × 10 columns</p>\n",
       "</div>"
      ],
      "text/plain": [
       "         Invoice StockCode                          Description  Quantity  \\\n",
       "1065883  C581484     23843          PAPER CRAFT , LITTLE BIRDIE    -80995   \n",
       "587085   C541433     23166       MEDIUM CERAMIC TOP STORAGE JAR    -74215   \n",
       "507225   C536757     84347  ROTATING SILVER ANGELS T-LIGHT HLDR     -9360   \n",
       "359669   C524235     21088         SET/6 FRUIT SALAD PAPER CUPS     -7128   \n",
       "359670   C524235     21096      SET/6 FRUIT SALAD  PAPER PLATES     -7008   \n",
       "...          ...       ...                                  ...       ...   \n",
       "103623   C499282     21166           COOK WITH WINE METAL SIGN       -432   \n",
       "814595   C562221     22151            PLACE SETTING WHITE HEART      -432   \n",
       "845372   C564940     22564               ALPHABET STENCIL CRAFT      -432   \n",
       "252972   C513771     22333  RETRO SPORT PARTY BAG + STICKER SET      -432   \n",
       "359649   C524235    84927D                LA PALMIERA TILE HOOK      -432   \n",
       "\n",
       "                InvoiceDate  Price  Customer ID         Country  TotalPrice  \\\n",
       "1065883 2011-12-09 09:27:00   2.08        16446  United Kingdom  -168469.60   \n",
       "587085  2011-01-18 10:17:00   1.04        12346  United Kingdom   -77183.60   \n",
       "507225  2010-12-02 14:23:00   0.03        15838  United Kingdom     -280.80   \n",
       "359669  2010-09-28 11:02:00   0.08        14277          France     -570.24   \n",
       "359670  2010-09-28 11:02:00   0.13        14277          France     -911.04   \n",
       "...                     ...    ...          ...             ...         ...   \n",
       "103623  2010-02-25 18:55:00   1.69        16684  United Kingdom     -730.08   \n",
       "814595  2011-08-03 14:22:00   0.36        16525  United Kingdom     -155.52   \n",
       "845372  2011-08-31 13:10:00   1.06        12931  United Kingdom     -457.92   \n",
       "252972  2010-06-28 13:49:00   1.45        16754  United Kingdom     -626.40   \n",
       "359649  2010-09-28 11:02:00   0.08        14277          France      -34.56   \n",
       "\n",
       "         cancelled  \n",
       "1065883          1  \n",
       "587085           1  \n",
       "507225           1  \n",
       "359669           1  \n",
       "359670           1  \n",
       "...            ...  \n",
       "103623           1  \n",
       "814595           1  \n",
       "845372           1  \n",
       "252972           1  \n",
       "359649           1  \n",
       "\n",
       "[100 rows x 10 columns]"
      ]
     },
     "execution_count": 158,
     "metadata": {},
     "output_type": "execute_result"
    }
   ],
   "source": [
    "# Trier le DataFrame par la colonne \"Quantity\" de manière décroissante\n",
    "df_sorted = df.sort_values(by=\"Quantity\", ascending=True)\n",
    "\n",
    "# Afficher le DataFrame trié\n",
    "df_sorted.head(100)"
   ]
  },
  {
   "attachments": {},
   "cell_type": "markdown",
   "metadata": {},
   "source": [
    "Sauvegarde du dataframe (pour l'utiliser pour faire l'analyse RFM et clustering)"
   ]
  },
  {
   "cell_type": "code",
   "execution_count": 159,
   "metadata": {},
   "outputs": [
    {
     "name": "stdout",
     "output_type": "stream",
     "text": [
      "<class 'pandas.core.frame.DataFrame'>\n",
      "Int64Index: 795569 entries, 0 to 1067369\n",
      "Data columns (total 10 columns):\n",
      " #   Column       Non-Null Count   Dtype         \n",
      "---  ------       --------------   -----         \n",
      " 0   Invoice      795569 non-null  object        \n",
      " 1   StockCode    795569 non-null  object        \n",
      " 2   Description  795569 non-null  object        \n",
      " 3   Quantity     795569 non-null  int64         \n",
      " 4   InvoiceDate  795569 non-null  datetime64[ns]\n",
      " 5   Price        795569 non-null  float64       \n",
      " 6   Customer ID  795569 non-null  int64         \n",
      " 7   Country      795569 non-null  object        \n",
      " 8   TotalPrice   795569 non-null  float64       \n",
      " 9   cancelled    795569 non-null  int64         \n",
      "dtypes: datetime64[ns](1), float64(2), int64(3), object(4)\n",
      "memory usage: 66.8+ MB\n"
     ]
    }
   ],
   "source": [
    "df.info()"
   ]
  },
  {
   "cell_type": "code",
   "execution_count": 160,
   "metadata": {},
   "outputs": [],
   "source": [
    "df.to_csv('clean_online_retail.csv', index=False)"
   ]
  }
 ],
 "metadata": {
  "kernelspec": {
   "display_name": "sklearn-env",
   "language": "python",
   "name": "python3"
  },
  "language_info": {
   "codemirror_mode": {
    "name": "ipython",
    "version": 3
   },
   "file_extension": ".py",
   "mimetype": "text/x-python",
   "name": "python",
   "nbconvert_exporter": "python",
   "pygments_lexer": "ipython3",
   "version": "3.10.8"
  },
  "orig_nbformat": 4,
  "vscode": {
   "interpreter": {
    "hash": "28ff26c65758d064959116f1d9c8fbca26d00c18c6d798db5e6a86c21bd645e4"
   }
  }
 },
 "nbformat": 4,
 "nbformat_minor": 2
}
