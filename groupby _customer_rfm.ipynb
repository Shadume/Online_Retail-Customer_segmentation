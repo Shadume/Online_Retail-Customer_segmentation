{
 "cells": [
  {
   "cell_type": "code",
   "execution_count": 15,
   "metadata": {},
   "outputs": [],
   "source": [
    "import pandas as pd\n",
    "import numpy as np\n",
    "import seaborn as sns\n",
    "from sklearn.cluster import KMeans\n",
    "import plotly.graph_objects as go\n",
    "import datetime\n",
    "import matplotlib.pyplot as plt"
   ]
  },
  {
   "attachments": {},
   "cell_type": "markdown",
   "metadata": {},
   "source": [
    "Importation du csv dans un dataframe"
   ]
  },
  {
   "cell_type": "code",
   "execution_count": 16,
   "metadata": {},
   "outputs": [],
   "source": [
    "df_ = pd.read_csv('./clean_online_retail.csv')\n",
    "df = df_.copy()"
   ]
  },
  {
   "cell_type": "code",
   "execution_count": 17,
   "metadata": {},
   "outputs": [
    {
     "name": "stdout",
     "output_type": "stream",
     "text": [
      "<class 'pandas.core.frame.DataFrame'>\n",
      "RangeIndex: 795569 entries, 0 to 795568\n",
      "Data columns (total 10 columns):\n",
      " #   Column       Non-Null Count   Dtype  \n",
      "---  ------       --------------   -----  \n",
      " 0   Invoice      795569 non-null  object \n",
      " 1   StockCode    795569 non-null  object \n",
      " 2   Description  795569 non-null  object \n",
      " 3   Quantity     795569 non-null  int64  \n",
      " 4   InvoiceDate  795569 non-null  object \n",
      " 5   Price        795569 non-null  float64\n",
      " 6   Customer ID  795569 non-null  int64  \n",
      " 7   Country      795569 non-null  object \n",
      " 8   TotalPrice   795569 non-null  float64\n",
      " 9   cancelled    795569 non-null  int64  \n",
      "dtypes: float64(2), int64(3), object(5)\n",
      "memory usage: 60.7+ MB\n"
     ]
    }
   ],
   "source": [
    "df.info()"
   ]
  },
  {
   "cell_type": "code",
   "execution_count": 18,
   "metadata": {},
   "outputs": [],
   "source": [
    "df[\"InvoiceDate\"] = pd.to_datetime(df[\"InvoiceDate\"])"
   ]
  },
  {
   "attachments": {},
   "cell_type": "markdown",
   "metadata": {},
   "source": [
    "## Groupby Customer"
   ]
  },
  {
   "cell_type": "code",
   "execution_count": 19,
   "metadata": {},
   "outputs": [
    {
     "data": {
      "text/html": [
       "<div>\n",
       "<style scoped>\n",
       "    .dataframe tbody tr th:only-of-type {\n",
       "        vertical-align: middle;\n",
       "    }\n",
       "\n",
       "    .dataframe tbody tr th {\n",
       "        vertical-align: top;\n",
       "    }\n",
       "\n",
       "    .dataframe thead th {\n",
       "        text-align: right;\n",
       "    }\n",
       "</style>\n",
       "<table border=\"1\" class=\"dataframe\">\n",
       "  <thead>\n",
       "    <tr style=\"text-align: right;\">\n",
       "      <th></th>\n",
       "      <th></th>\n",
       "      <th>Quantity</th>\n",
       "      <th>TotalPrice</th>\n",
       "    </tr>\n",
       "    <tr>\n",
       "      <th>Customer ID</th>\n",
       "      <th>Invoice</th>\n",
       "      <th></th>\n",
       "      <th></th>\n",
       "    </tr>\n",
       "  </thead>\n",
       "  <tbody>\n",
       "    <tr>\n",
       "      <th rowspan=\"5\" valign=\"top\">12346</th>\n",
       "      <th>491725</th>\n",
       "      <td>10</td>\n",
       "      <td>45.00</td>\n",
       "    </tr>\n",
       "    <tr>\n",
       "      <th>491742</th>\n",
       "      <td>5</td>\n",
       "      <td>22.50</td>\n",
       "    </tr>\n",
       "    <tr>\n",
       "      <th>491744</th>\n",
       "      <td>5</td>\n",
       "      <td>22.50</td>\n",
       "    </tr>\n",
       "    <tr>\n",
       "      <th>492718</th>\n",
       "      <td>5</td>\n",
       "      <td>22.50</td>\n",
       "    </tr>\n",
       "    <tr>\n",
       "      <th>492722</th>\n",
       "      <td>1</td>\n",
       "      <td>1.00</td>\n",
       "    </tr>\n",
       "    <tr>\n",
       "      <th>...</th>\n",
       "      <th>...</th>\n",
       "      <td>...</td>\n",
       "      <td>...</td>\n",
       "    </tr>\n",
       "    <tr>\n",
       "      <th rowspan=\"5\" valign=\"top\">18287</th>\n",
       "      <th>534346</th>\n",
       "      <td>187</td>\n",
       "      <td>381.50</td>\n",
       "    </tr>\n",
       "    <tr>\n",
       "      <th>554065</th>\n",
       "      <td>488</td>\n",
       "      <td>765.28</td>\n",
       "    </tr>\n",
       "    <tr>\n",
       "      <th>570715</th>\n",
       "      <td>990</td>\n",
       "      <td>1001.32</td>\n",
       "    </tr>\n",
       "    <tr>\n",
       "      <th>573167</th>\n",
       "      <td>108</td>\n",
       "      <td>70.68</td>\n",
       "    </tr>\n",
       "    <tr>\n",
       "      <th>C489592</th>\n",
       "      <td>-2</td>\n",
       "      <td>-5.10</td>\n",
       "    </tr>\n",
       "  </tbody>\n",
       "</table>\n",
       "<p>44429 rows × 2 columns</p>\n",
       "</div>"
      ],
      "text/plain": [
       "                     Quantity  TotalPrice\n",
       "Customer ID Invoice                      \n",
       "12346       491725         10       45.00\n",
       "            491742          5       22.50\n",
       "            491744          5       22.50\n",
       "            492718          5       22.50\n",
       "            492722          1        1.00\n",
       "...                       ...         ...\n",
       "18287       534346        187      381.50\n",
       "            554065        488      765.28\n",
       "            570715        990     1001.32\n",
       "            573167        108       70.68\n",
       "            C489592        -2       -5.10\n",
       "\n",
       "[44429 rows x 2 columns]"
      ]
     },
     "execution_count": 19,
     "metadata": {},
     "output_type": "execute_result"
    }
   ],
   "source": [
    "df_gp_invoice = df.groupby(['Customer ID', 'Invoice']).sum(numeric_only=True).drop('Price', axis=1)\n",
    "df_gp_invoice = df_gp_invoice[['Quantity', 'TotalPrice']]\n",
    "df_gp_invoice\n"
   ]
  },
  {
   "attachments": {},
   "cell_type": "markdown",
   "metadata": {},
   "source": [
    "### Pourcentage de retour par client"
   ]
  },
  {
   "cell_type": "code",
   "execution_count": 25,
   "metadata": {},
   "outputs": [
    {
     "data": {
      "text/html": [
       "<div>\n",
       "<style scoped>\n",
       "    .dataframe tbody tr th:only-of-type {\n",
       "        vertical-align: middle;\n",
       "    }\n",
       "\n",
       "    .dataframe tbody tr th {\n",
       "        vertical-align: top;\n",
       "    }\n",
       "\n",
       "    .dataframe thead th {\n",
       "        text-align: right;\n",
       "    }\n",
       "</style>\n",
       "<table border=\"1\" class=\"dataframe\">\n",
       "  <thead>\n",
       "    <tr style=\"text-align: right;\">\n",
       "      <th></th>\n",
       "      <th>TotalCancelled</th>\n",
       "      <th>TotalInvoices</th>\n",
       "      <th>CancellationPercentage</th>\n",
       "    </tr>\n",
       "    <tr>\n",
       "      <th>Customer ID</th>\n",
       "      <th></th>\n",
       "      <th></th>\n",
       "      <th></th>\n",
       "    </tr>\n",
       "  </thead>\n",
       "  <tbody>\n",
       "    <tr>\n",
       "      <th>14911</th>\n",
       "      <td>361</td>\n",
       "      <td>11435</td>\n",
       "      <td>3.156974</td>\n",
       "    </tr>\n",
       "    <tr>\n",
       "      <th>15311</th>\n",
       "      <td>273</td>\n",
       "      <td>4579</td>\n",
       "      <td>5.962000</td>\n",
       "    </tr>\n",
       "    <tr>\n",
       "      <th>17511</th>\n",
       "      <td>208</td>\n",
       "      <td>2076</td>\n",
       "      <td>10.019268</td>\n",
       "    </tr>\n",
       "    <tr>\n",
       "      <th>17841</th>\n",
       "      <td>201</td>\n",
       "      <td>12636</td>\n",
       "      <td>1.590693</td>\n",
       "    </tr>\n",
       "    <tr>\n",
       "      <th>13798</th>\n",
       "      <td>190</td>\n",
       "      <td>911</td>\n",
       "      <td>20.856202</td>\n",
       "    </tr>\n",
       "    <tr>\n",
       "      <th>...</th>\n",
       "      <td>...</td>\n",
       "      <td>...</td>\n",
       "      <td>...</td>\n",
       "    </tr>\n",
       "    <tr>\n",
       "      <th>15910</th>\n",
       "      <td>0</td>\n",
       "      <td>620</td>\n",
       "      <td>0.000000</td>\n",
       "    </tr>\n",
       "    <tr>\n",
       "      <th>13788</th>\n",
       "      <td>0</td>\n",
       "      <td>1</td>\n",
       "      <td>0.000000</td>\n",
       "    </tr>\n",
       "    <tr>\n",
       "      <th>15912</th>\n",
       "      <td>0</td>\n",
       "      <td>95</td>\n",
       "      <td>0.000000</td>\n",
       "    </tr>\n",
       "    <tr>\n",
       "      <th>15913</th>\n",
       "      <td>0</td>\n",
       "      <td>1</td>\n",
       "      <td>0.000000</td>\n",
       "    </tr>\n",
       "    <tr>\n",
       "      <th>15320</th>\n",
       "      <td>0</td>\n",
       "      <td>36</td>\n",
       "      <td>0.000000</td>\n",
       "    </tr>\n",
       "  </tbody>\n",
       "</table>\n",
       "<p>5921 rows × 3 columns</p>\n",
       "</div>"
      ],
      "text/plain": [
       "             TotalCancelled  TotalInvoices  CancellationPercentage\n",
       "Customer ID                                                       \n",
       "14911                   361          11435                3.156974\n",
       "15311                   273           4579                5.962000\n",
       "17511                   208           2076               10.019268\n",
       "17841                   201          12636                1.590693\n",
       "13798                   190            911               20.856202\n",
       "...                     ...            ...                     ...\n",
       "15910                     0            620                0.000000\n",
       "13788                     0              1                0.000000\n",
       "15912                     0             95                0.000000\n",
       "15913                     0              1                0.000000\n",
       "15320                     0             36                0.000000\n",
       "\n",
       "[5921 rows x 3 columns]"
      ]
     },
     "execution_count": 25,
     "metadata": {},
     "output_type": "execute_result"
    }
   ],
   "source": [
    "df_gp_cancellation = df.groupby(\"Customer ID\").agg({\"cancelled\": \"sum\", \"Invoice\": \"count\"})\n",
    "\n",
    "df_gp_cancellation = df_gp_cancellation.rename(columns={\"cancelled\": \"TotalCancelled\", \"Invoice\": \"TotalInvoices\"})\n",
    "\n",
    "df_gp_cancellation[\"CancellationPercentage\"] = (df_gp_cancellation[\"TotalCancelled\"] / df_gp_cancellation[\"TotalInvoices\"]) * 100\n",
    "\n",
    "df_gp_cancellation.sort_values(by= \"TotalCancelled\", ascending=False)\n"
   ]
  },
  {
   "cell_type": "code",
   "execution_count": 21,
   "metadata": {},
   "outputs": [
    {
     "data": {
      "image/png": "[encoded data removed]",
      "text/plain": [
       "<Figure size 1000x600 with 1 Axes>"
      ]
     },
     "metadata": {},
     "output_type": "display_data"
    }
   ],
   "source": [
    "intervals = [0, 5, 10, 20, 50, 70, 90, 100]\n",
    "labels = ['0-5%', '5-10%', '10-20%', '20-50%', '50-70%', '70-90%', '90-100%']\n",
    "\n",
    "df_gp_cancellation['ReturnCategory'] = pd.cut(df_gp_cancellation['CancellationPercentage'], bins=intervals, labels=labels, right=True, include_lowest=True)\n",
    "\n",
    "return_category_counts = df_gp_cancellation['ReturnCategory'].value_counts()\n",
    "\n",
    "return_category_counts = return_category_counts.reindex(labels)\n",
    "\n",
    "plt.figure(figsize=(10, 6))\n",
    "return_category_counts.plot(kind='bar')\n",
    "plt.xlabel('Pourcentage de retour')\n",
    "plt.ylabel('Nombre de clients')\n",
    "plt.title('Répartition des clients par pourcentage de retour')\n",
    "plt.show()\n"
   ]
  },
  {
   "attachments": {},
   "cell_type": "markdown",
   "metadata": {},
   "source": [
    "La feature \"CancellationPercentage\" peut-être interessante à conserver dans le clustering"
   ]
  },
  {
   "attachments": {},
   "cell_type": "markdown",
   "metadata": {},
   "source": [
    "## Création du RFM"
   ]
  },
  {
   "attachments": {},
   "cell_type": "markdown",
   "metadata": {},
   "source": [
    "RFM ? Récence, Fréquence, Montant.\n",
    "\n",
    "Récence : la date du dernier achat. Notez bien que l’on part du principe qu’une personne qui a acheté récemment chez vous a plus de chances de revenir commander chez vous.  \n",
    "\n",
    "Fréquence : le nombre d’achats réalisé sur une période donnée. Plus un client achète régulièrement chez vous, plus il y a de chances pour qu’il achète à nouveau. Vous l’avez compris, on analyse ici son niveau de fidélité.  \n",
    "\n",
    "Montant : la somme des achats cumulés sur une période donnée. Les gros acheteurs répondent mieux que les petits. On mesure ici la valeur client."
   ]
  },
  {
   "attachments": {},
   "cell_type": "markdown",
   "metadata": {},
   "source": [
    "Trouver la date la plus récente"
   ]
  },
  {
   "cell_type": "code",
   "execution_count": 22,
   "metadata": {},
   "outputs": [
    {
     "name": "stdout",
     "output_type": "stream",
     "text": [
      "2011-12-09 12:50:00\n"
     ]
    }
   ],
   "source": [
    "date_recente = df[\"InvoiceDate\"].max()\n",
    "print(date_recente)"
   ]
  },
  {
   "attachments": {},
   "cell_type": "markdown",
   "metadata": {},
   "source": [
    "### Préparation des données RFM"
   ]
  },
  {
   "cell_type": "code",
   "execution_count": 26,
   "metadata": {},
   "outputs": [
    {
     "data": {
      "text/html": [
       "<div>\n",
       "<style scoped>\n",
       "    .dataframe tbody tr th:only-of-type {\n",
       "        vertical-align: middle;\n",
       "    }\n",
       "\n",
       "    .dataframe tbody tr th {\n",
       "        vertical-align: top;\n",
       "    }\n",
       "\n",
       "    .dataframe thead th {\n",
       "        text-align: right;\n",
       "    }\n",
       "</style>\n",
       "<table border=\"1\" class=\"dataframe\">\n",
       "  <thead>\n",
       "    <tr style=\"text-align: right;\">\n",
       "      <th></th>\n",
       "      <th>Recency</th>\n",
       "      <th>Frequency</th>\n",
       "      <th>MonetaryValue</th>\n",
       "    </tr>\n",
       "    <tr>\n",
       "      <th>Customer ID</th>\n",
       "      <th></th>\n",
       "      <th></th>\n",
       "      <th></th>\n",
       "    </tr>\n",
       "  </thead>\n",
       "  <tbody>\n",
       "    <tr>\n",
       "      <th>12346</th>\n",
       "      <td>325</td>\n",
       "      <td>15</td>\n",
       "      <td>52.76</td>\n",
       "    </tr>\n",
       "    <tr>\n",
       "      <th>12347</th>\n",
       "      <td>1</td>\n",
       "      <td>8</td>\n",
       "      <td>4921.53</td>\n",
       "    </tr>\n",
       "    <tr>\n",
       "      <th>12348</th>\n",
       "      <td>74</td>\n",
       "      <td>5</td>\n",
       "      <td>1658.40</td>\n",
       "    </tr>\n",
       "    <tr>\n",
       "      <th>12349</th>\n",
       "      <td>18</td>\n",
       "      <td>4</td>\n",
       "      <td>3654.54</td>\n",
       "    </tr>\n",
       "    <tr>\n",
       "      <th>12350</th>\n",
       "      <td>309</td>\n",
       "      <td>1</td>\n",
       "      <td>294.40</td>\n",
       "    </tr>\n",
       "    <tr>\n",
       "      <th>...</th>\n",
       "      <td>...</td>\n",
       "      <td>...</td>\n",
       "      <td>...</td>\n",
       "    </tr>\n",
       "    <tr>\n",
       "      <th>12443</th>\n",
       "      <td>731</td>\n",
       "      <td>1</td>\n",
       "      <td>365.31</td>\n",
       "    </tr>\n",
       "    <tr>\n",
       "      <th>12444</th>\n",
       "      <td>20</td>\n",
       "      <td>5</td>\n",
       "      <td>4085.46</td>\n",
       "    </tr>\n",
       "    <tr>\n",
       "      <th>12445</th>\n",
       "      <td>21</td>\n",
       "      <td>3</td>\n",
       "      <td>370.48</td>\n",
       "    </tr>\n",
       "    <tr>\n",
       "      <th>12446</th>\n",
       "      <td>57</td>\n",
       "      <td>1</td>\n",
       "      <td>1002.31</td>\n",
       "    </tr>\n",
       "    <tr>\n",
       "      <th>12447</th>\n",
       "      <td>242</td>\n",
       "      <td>1</td>\n",
       "      <td>431.49</td>\n",
       "    </tr>\n",
       "  </tbody>\n",
       "</table>\n",
       "<p>100 rows × 3 columns</p>\n",
       "</div>"
      ],
      "text/plain": [
       "             Recency  Frequency  MonetaryValue\n",
       "Customer ID                                   \n",
       "12346            325         15          52.76\n",
       "12347              1          8        4921.53\n",
       "12348             74          5        1658.40\n",
       "12349             18          4        3654.54\n",
       "12350            309          1         294.40\n",
       "...              ...        ...            ...\n",
       "12443            731          1         365.31\n",
       "12444             20          5        4085.46\n",
       "12445             21          3         370.48\n",
       "12446             57          1        1002.31\n",
       "12447            242          1         431.49\n",
       "\n",
       "[100 rows x 3 columns]"
      ]
     },
     "execution_count": 26,
     "metadata": {},
     "output_type": "execute_result"
    }
   ],
   "source": [
    "# Calculer les valeurs RFM sur l'ensemble de la plage de dates\n",
    "last_date = df[\"InvoiceDate\"].max()\n",
    "recency = (last_date - df.groupby(\"Customer ID\")[\"InvoiceDate\"].max()).dt.days\n",
    "frequency = df.groupby(\"Customer ID\")[\"Invoice\"].nunique()\n",
    "monetary_value = df.groupby(\"Customer ID\")[\"TotalPrice\"].sum()\n",
    "\n",
    "# Créer un nouveau DataFrame avec les valeurs RFM\n",
    "rfm_df = pd.DataFrame({\n",
    "    \"Recency\": recency,\n",
    "    \"Frequency\": frequency,\n",
    "    \"MonetaryValue\": monetary_value\n",
    "})\n",
    "\n",
    "rfm_df.head(100)"
   ]
  }
 ],
 "metadata": {
  "kernelspec": {
   "display_name": "sklearn-env",
   "language": "python",
   "name": "python3"
  },
  "language_info": {
   "codemirror_mode": {
    "name": "ipython",
    "version": 3
   },
   "file_extension": ".py",
   "mimetype": "text/x-python",
   "name": "python",
   "nbconvert_exporter": "python",
   "pygments_lexer": "ipython3",
   "version": "3.10.8"
  },
  "orig_nbformat": 4,
  "vscode": {
   "interpreter": {
    "hash": "28ff26c65758d064959116f1d9c8fbca26d00c18c6d798db5e6a86c21bd645e4"
   }
  }
 },
 "nbformat": 4,
 "nbformat_minor": 2
}
