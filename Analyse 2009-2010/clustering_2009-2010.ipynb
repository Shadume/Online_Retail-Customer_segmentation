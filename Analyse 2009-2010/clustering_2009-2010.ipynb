{
 "cells": [
  {
   "cell_type": "code",
   "execution_count": 4,
   "metadata": {},
   "outputs": [],
   "source": [
    "import pandas as pd\n",
    "import numpy as np\n",
    "import seaborn as sns\n",
    "from sklearn.cluster import KMeans\n",
    "import plotly.graph_objects as go\n",
    "import datetime\n",
    "import matplotlib.pyplot as plt"
   ]
  },
  {
   "attachments": {},
   "cell_type": "markdown",
   "metadata": {},
   "source": [
    "Importation du csv dans un dataframe"
   ]
  },
  {
   "cell_type": "code",
   "execution_count": 5,
   "metadata": {},
   "outputs": [],
   "source": [
    "df_ = pd.read_csv('../dataset/rfm_2009-2010.csv', index_col='Customer ID')\n",
    "df_2009_2010 = df_.copy()"
   ]
  },
  {
   "cell_type": "code",
   "execution_count": 6,
   "metadata": {},
   "outputs": [
    {
     "name": "stdout",
     "output_type": "stream",
     "text": [
      "<class 'pandas.core.frame.DataFrame'>\n",
      "Int64Index: 4411 entries, 12346 to 18287\n",
      "Data columns (total 6 columns):\n",
      " #   Column                  Non-Null Count  Dtype  \n",
      "---  ------                  --------------  -----  \n",
      " 0   TotalInvoices           4411 non-null   int64  \n",
      " 1   TotalQuantity           4411 non-null   int64  \n",
      " 2   TotalPrice              4411 non-null   float64\n",
      " 3   Recency                 4411 non-null   int64  \n",
      " 4   CancellationPercentage  4411 non-null   float64\n",
      " 5   AvgItemsPerOrder        4411 non-null   float64\n",
      "dtypes: float64(3), int64(3)\n",
      "memory usage: 241.2 KB\n"
     ]
    }
   ],
   "source": [
    "df_2009_2010.info()"
   ]
  },
  {
   "cell_type": "code",
   "execution_count": 7,
   "metadata": {},
   "outputs": [
    {
     "data": {
      "text/html": [
       "<div>\n",
       "<style scoped>\n",
       "    .dataframe tbody tr th:only-of-type {\n",
       "        vertical-align: middle;\n",
       "    }\n",
       "\n",
       "    .dataframe tbody tr th {\n",
       "        vertical-align: top;\n",
       "    }\n",
       "\n",
       "    .dataframe thead th {\n",
       "        text-align: right;\n",
       "    }\n",
       "</style>\n",
       "<table border=\"1\" class=\"dataframe\">\n",
       "  <thead>\n",
       "    <tr style=\"text-align: right;\">\n",
       "      <th></th>\n",
       "      <th>TotalInvoices</th>\n",
       "      <th>TotalQuantity</th>\n",
       "      <th>TotalPrice</th>\n",
       "      <th>Recency</th>\n",
       "      <th>CancellationPercentage</th>\n",
       "      <th>AvgItemsPerOrder</th>\n",
       "    </tr>\n",
       "  </thead>\n",
       "  <tbody>\n",
       "    <tr>\n",
       "      <th>count</th>\n",
       "      <td>4411.000000</td>\n",
       "      <td>4411.000000</td>\n",
       "      <td>4411.000000</td>\n",
       "      <td>4411.000000</td>\n",
       "      <td>4411.000000</td>\n",
       "      <td>4411.000000</td>\n",
       "    </tr>\n",
       "    <tr>\n",
       "      <th>mean</th>\n",
       "      <td>5.529812</td>\n",
       "      <td>1237.172977</td>\n",
       "      <td>1941.470579</td>\n",
       "      <td>99.202675</td>\n",
       "      <td>4.362482</td>\n",
       "      <td>209.041138</td>\n",
       "    </tr>\n",
       "    <tr>\n",
       "      <th>std</th>\n",
       "      <td>10.405310</td>\n",
       "      <td>6232.787992</td>\n",
       "      <td>8646.164289</td>\n",
       "      <td>99.797324</td>\n",
       "      <td>14.033592</td>\n",
       "      <td>1419.811723</td>\n",
       "    </tr>\n",
       "    <tr>\n",
       "      <th>min</th>\n",
       "      <td>1.000000</td>\n",
       "      <td>-1535.000000</td>\n",
       "      <td>-25111.090000</td>\n",
       "      <td>0.000000</td>\n",
       "      <td>0.000000</td>\n",
       "      <td>-393.000000</td>\n",
       "    </tr>\n",
       "    <tr>\n",
       "      <th>25%</th>\n",
       "      <td>1.000000</td>\n",
       "      <td>145.000000</td>\n",
       "      <td>285.570000</td>\n",
       "      <td>26.500000</td>\n",
       "      <td>0.000000</td>\n",
       "      <td>72.000000</td>\n",
       "    </tr>\n",
       "    <tr>\n",
       "      <th>50%</th>\n",
       "      <td>3.000000</td>\n",
       "      <td>370.000000</td>\n",
       "      <td>664.001000</td>\n",
       "      <td>60.000000</td>\n",
       "      <td>0.000000</td>\n",
       "      <td>124.600000</td>\n",
       "    </tr>\n",
       "    <tr>\n",
       "      <th>75%</th>\n",
       "      <td>6.000000</td>\n",
       "      <td>970.500000</td>\n",
       "      <td>1666.225000</td>\n",
       "      <td>143.500000</td>\n",
       "      <td>2.816901</td>\n",
       "      <td>213.600000</td>\n",
       "    </tr>\n",
       "    <tr>\n",
       "      <th>max</th>\n",
       "      <td>278.000000</td>\n",
       "      <td>218090.000000</td>\n",
       "      <td>341776.730000</td>\n",
       "      <td>387.000000</td>\n",
       "      <td>100.000000</td>\n",
       "      <td>87167.000000</td>\n",
       "    </tr>\n",
       "  </tbody>\n",
       "</table>\n",
       "</div>"
      ],
      "text/plain": [
       "       TotalInvoices  TotalQuantity     TotalPrice      Recency  \\\n",
       "count    4411.000000    4411.000000    4411.000000  4411.000000   \n",
       "mean        5.529812    1237.172977    1941.470579    99.202675   \n",
       "std        10.405310    6232.787992    8646.164289    99.797324   \n",
       "min         1.000000   -1535.000000  -25111.090000     0.000000   \n",
       "25%         1.000000     145.000000     285.570000    26.500000   \n",
       "50%         3.000000     370.000000     664.001000    60.000000   \n",
       "75%         6.000000     970.500000    1666.225000   143.500000   \n",
       "max       278.000000  218090.000000  341776.730000   387.000000   \n",
       "\n",
       "       CancellationPercentage  AvgItemsPerOrder  \n",
       "count             4411.000000       4411.000000  \n",
       "mean                 4.362482        209.041138  \n",
       "std                 14.033592       1419.811723  \n",
       "min                  0.000000       -393.000000  \n",
       "25%                  0.000000         72.000000  \n",
       "50%                  0.000000        124.600000  \n",
       "75%                  2.816901        213.600000  \n",
       "max                100.000000      87167.000000  "
      ]
     },
     "execution_count": 7,
     "metadata": {},
     "output_type": "execute_result"
    }
   ],
   "source": [
    "df_2009_2010.describe()"
   ]
  },
  {
   "attachments": {},
   "cell_type": "markdown",
   "metadata": {},
   "source": [
    "### Normalisation des données"
   ]
  },
  {
   "cell_type": "code",
   "execution_count": 8,
   "metadata": {},
   "outputs": [],
   "source": [
    "from sklearn.preprocessing import StandardScaler\n",
    "\n",
    "# Normaliser les valeurs RFM\n",
    "scaler = StandardScaler()\n",
    "rfm_normalized = scaler.fit_transform(df_2009_2010)"
   ]
  },
  {
   "attachments": {},
   "cell_type": "markdown",
   "metadata": {},
   "source": [
    "### Nombre de clusters : méthode du coude"
   ]
  },
  {
   "cell_type": "code",
   "execution_count": 9,
   "metadata": {},
   "outputs": [],
   "source": [
    "# from kneed import KneeLocator\n",
    "\n",
    "# inertias = []\n",
    "\n",
    "# for n_clusters in range(1, 30):\n",
    "#     kmeans = KMeans(n_clusters=n_clusters, init='k-means++', n_init=10, random_state=42)\n",
    "#     kmeans.fit(rfm_normalized)\n",
    "#     inertias.append(kmeans.inertia_)\n",
    "\n",
    "# knee = KneeLocator(range(1, 30), inertias, curve=\"convex\", direction=\"decreasing\")\n",
    "\n",
    "# plt.plot(range(1, 30), inertias, marker='o')\n",
    "# plt.title(\"Méthode du Coude\")\n",
    "# plt.xlabel(\"Nombre de Clusters\")\n",
    "# plt.ylabel(\"Inertie\")\n",
    "# plt.vlines(knee.elbow, plt.ylim()[0], plt.ylim()[1], linestyles='dashed', colors='r', label='Coude')\n",
    "# plt.legend()\n",
    "# plt.show()\n",
    "\n",
    "# print(\"Nombre de clusters détecté:\", knee.elbow)"
   ]
  },
  {
   "attachments": {},
   "cell_type": "markdown",
   "metadata": {},
   "source": [
    "### Application du clustering (avec K-means)"
   ]
  },
  {
   "cell_type": "code",
   "execution_count": 10,
   "metadata": {},
   "outputs": [],
   "source": [
    "kmeans = KMeans(n_clusters=5, init='k-means++', n_init=10, random_state=42)\n",
    "clusters = kmeans.fit_predict(rfm_normalized)"
   ]
  },
  {
   "attachments": {},
   "cell_type": "markdown",
   "metadata": {},
   "source": [
    "### Réduction de dimension avec T-SNE"
   ]
  },
  {
   "cell_type": "code",
   "execution_count": 11,
   "metadata": {},
   "outputs": [],
   "source": [
    "from sklearn.manifold import TSNE\n",
    "\n",
    "tsne = TSNE(n_components=2, random_state=42)\n",
    "tsne_data = tsne.fit_transform(rfm_normalized)"
   ]
  },
  {
   "attachments": {},
   "cell_type": "markdown",
   "metadata": {},
   "source": [
    "### Visualisation des clusters ave T-SNE"
   ]
  },
  {
   "cell_type": "code",
   "execution_count": 12,
   "metadata": {},
   "outputs": [
    {
     "data": {
      "image/png": "[encoded data removed]",
      "text/plain": [
       "<Figure size 640x480 with 1 Axes>"
      ]
     },
     "metadata": {},
     "output_type": "display_data"
    }
   ],
   "source": [
    "plt.scatter(tsne_data[:, 0], tsne_data[:, 1], c=clusters, cmap=\"viridis\")\n",
    "plt.title(\"Visualisation des Clusters RFM avec T-SNE\")\n",
    "plt.xlabel(\"Dimension 1\")\n",
    "plt.ylabel(\"Dimension 2\")\n",
    "plt.show()\n"
   ]
  },
  {
   "attachments": {},
   "cell_type": "markdown",
   "metadata": {},
   "source": [
    "## PCA"
   ]
  },
  {
   "cell_type": "code",
   "execution_count": 13,
   "metadata": {},
   "outputs": [],
   "source": [
    "from sklearn.decomposition import PCA\n",
    "\n",
    "pca = PCA(n_components=3, random_state=42)\n",
    "pca_data = pca.fit_transform(rfm_normalized)"
   ]
  },
  {
   "cell_type": "code",
   "execution_count": 14,
   "metadata": {},
   "outputs": [
    {
     "data": {
      "image/png": "[encoded data removed]",
      "text/plain": [
       "<Figure size 640x480 with 1 Axes>"
      ]
     },
     "metadata": {},
     "output_type": "display_data"
    }
   ],
   "source": [
    "# Scatter plot des composantes principales avec une couleur pour chaque cluster\n",
    "plt.scatter(pca_data[:,0],pca_data[:,1], c=kmeans.labels_)\n",
    "plt.xlabel('PC1')\n",
    "plt.ylabel('PC2')\n",
    "plt.title('ACP avec Clustering')\n",
    "plt.show()"
   ]
  },
  {
   "cell_type": "code",
   "execution_count": 15,
   "metadata": {},
   "outputs": [
    {
     "data": {
      "image/png": "[encoded data removed]",
      "text/plain": [
       "<Figure size 640x480 with 1 Axes>"
      ]
     },
     "metadata": {},
     "output_type": "display_data"
    }
   ],
   "source": [
    "fig = plt.figure()\n",
    "ax = fig.add_subplot(111, projection='3d')\n",
    "ax.scatter(pca_data[:, 0], pca_data[:, 1], pca_data[:, 2], c=clusters, cmap='viridis')\n",
    "ax.set_title(\"Visualisation des Clusters RFM avec PCA en 3D\")\n",
    "ax.set_xlabel(\"Dimension 1\")\n",
    "ax.set_ylabel(\"Dimension 2\")\n",
    "ax.set_zlabel(\"Dimension 3\")\n",
    "plt.show()\n"
   ]
  },
  {
   "cell_type": "code",
   "execution_count": 16,
   "metadata": {},
   "outputs": [
    {
     "name": "stdout",
     "output_type": "stream",
     "text": [
      "Cluster 0: 3278 points\n",
      "Cluster 1: 1 points\n",
      "Cluster 2: 6 points\n",
      "Cluster 3: 108 points\n",
      "Cluster 4: 1018 points\n"
     ]
    }
   ],
   "source": [
    "import numpy as np\n",
    "\n",
    "# Obtention du nombre de points par cluster\n",
    "nombre_points_par_cluster = np.bincount(kmeans.labels_)\n",
    "\n",
    "# Affichage des résultats\n",
    "for cluster, nombre_points in enumerate(nombre_points_par_cluster):\n",
    "    print(f\"Cluster {cluster}: {nombre_points} points\")\n"
   ]
  },
  {
   "cell_type": "code",
   "execution_count": 17,
   "metadata": {},
   "outputs": [
    {
     "data": {
      "text/html": [
       "<div>\n",
       "<style scoped>\n",
       "    .dataframe tbody tr th:only-of-type {\n",
       "        vertical-align: middle;\n",
       "    }\n",
       "\n",
       "    .dataframe tbody tr th {\n",
       "        vertical-align: top;\n",
       "    }\n",
       "\n",
       "    .dataframe thead th {\n",
       "        text-align: right;\n",
       "    }\n",
       "</style>\n",
       "<table border=\"1\" class=\"dataframe\">\n",
       "  <thead>\n",
       "    <tr style=\"text-align: right;\">\n",
       "      <th></th>\n",
       "      <th>TotalInvoices</th>\n",
       "      <th>TotalQuantity</th>\n",
       "      <th>TotalPrice</th>\n",
       "      <th>Recency</th>\n",
       "      <th>CancellationPercentage</th>\n",
       "      <th>AvgItemsPerOrder</th>\n",
       "    </tr>\n",
       "    <tr>\n",
       "      <th>Customer ID</th>\n",
       "      <th></th>\n",
       "      <th></th>\n",
       "      <th></th>\n",
       "      <th></th>\n",
       "      <th></th>\n",
       "      <th></th>\n",
       "    </tr>\n",
       "  </thead>\n",
       "  <tbody>\n",
       "    <tr>\n",
       "      <th>13687</th>\n",
       "      <td>1</td>\n",
       "      <td>87167</td>\n",
       "      <td>11880.84</td>\n",
       "      <td>86</td>\n",
       "      <td>0.0</td>\n",
       "      <td>87167.0</td>\n",
       "    </tr>\n",
       "  </tbody>\n",
       "</table>\n",
       "</div>"
      ],
      "text/plain": [
       "             TotalInvoices  TotalQuantity  TotalPrice  Recency  \\\n",
       "Customer ID                                                      \n",
       "13687                    1          87167    11880.84       86   \n",
       "\n",
       "             CancellationPercentage  AvgItemsPerOrder  \n",
       "Customer ID                                            \n",
       "13687                           0.0           87167.0  "
      ]
     },
     "execution_count": 17,
     "metadata": {},
     "output_type": "execute_result"
    }
   ],
   "source": [
    "# Filtrer les clients du cluster 1\n",
    "cluster_1_clients = df_2009_2010[kmeans.labels_ == 1]\n",
    "cluster_1_clients\n"
   ]
  },
  {
   "cell_type": "code",
   "execution_count": 18,
   "metadata": {},
   "outputs": [
    {
     "data": {
      "text/html": [
       "<div>\n",
       "<style scoped>\n",
       "    .dataframe tbody tr th:only-of-type {\n",
       "        vertical-align: middle;\n",
       "    }\n",
       "\n",
       "    .dataframe tbody tr th {\n",
       "        vertical-align: top;\n",
       "    }\n",
       "\n",
       "    .dataframe thead th {\n",
       "        text-align: right;\n",
       "    }\n",
       "</style>\n",
       "<table border=\"1\" class=\"dataframe\">\n",
       "  <thead>\n",
       "    <tr style=\"text-align: right;\">\n",
       "      <th></th>\n",
       "      <th>TotalInvoices</th>\n",
       "      <th>TotalQuantity</th>\n",
       "      <th>TotalPrice</th>\n",
       "      <th>Recency</th>\n",
       "      <th>CancellationPercentage</th>\n",
       "      <th>AvgItemsPerOrder</th>\n",
       "    </tr>\n",
       "    <tr>\n",
       "      <th>Customer ID</th>\n",
       "      <th></th>\n",
       "      <th></th>\n",
       "      <th></th>\n",
       "      <th></th>\n",
       "      <th></th>\n",
       "      <th></th>\n",
       "    </tr>\n",
       "  </thead>\n",
       "  <tbody>\n",
       "    <tr>\n",
       "      <th>13694</th>\n",
       "      <td>107</td>\n",
       "      <td>126479</td>\n",
       "      <td>130215.34</td>\n",
       "      <td>3</td>\n",
       "      <td>1.676529</td>\n",
       "      <td>1182.046729</td>\n",
       "    </tr>\n",
       "    <tr>\n",
       "      <th>13902</th>\n",
       "      <td>8</td>\n",
       "      <td>218090</td>\n",
       "      <td>30411.26</td>\n",
       "      <td>281</td>\n",
       "      <td>5.970149</td>\n",
       "      <td>27261.250000</td>\n",
       "    </tr>\n",
       "    <tr>\n",
       "      <th>14156</th>\n",
       "      <td>138</td>\n",
       "      <td>106883</td>\n",
       "      <td>183163.55</td>\n",
       "      <td>20</td>\n",
       "      <td>2.289513</td>\n",
       "      <td>774.514493</td>\n",
       "    </tr>\n",
       "    <tr>\n",
       "      <th>14646</th>\n",
       "      <td>89</td>\n",
       "      <td>175151</td>\n",
       "      <td>252444.93</td>\n",
       "      <td>2</td>\n",
       "      <td>1.654216</td>\n",
       "      <td>1967.988764</td>\n",
       "    </tr>\n",
       "    <tr>\n",
       "      <th>14911</th>\n",
       "      <td>278</td>\n",
       "      <td>67523</td>\n",
       "      <td>140056.31</td>\n",
       "      <td>0</td>\n",
       "      <td>2.814259</td>\n",
       "      <td>242.888489</td>\n",
       "    </tr>\n",
       "    <tr>\n",
       "      <th>18102</th>\n",
       "      <td>95</td>\n",
       "      <td>122988</td>\n",
       "      <td>341776.73</td>\n",
       "      <td>14</td>\n",
       "      <td>1.259843</td>\n",
       "      <td>1294.610526</td>\n",
       "    </tr>\n",
       "  </tbody>\n",
       "</table>\n",
       "</div>"
      ],
      "text/plain": [
       "             TotalInvoices  TotalQuantity  TotalPrice  Recency  \\\n",
       "Customer ID                                                      \n",
       "13694                  107         126479   130215.34        3   \n",
       "13902                    8         218090    30411.26      281   \n",
       "14156                  138         106883   183163.55       20   \n",
       "14646                   89         175151   252444.93        2   \n",
       "14911                  278          67523   140056.31        0   \n",
       "18102                   95         122988   341776.73       14   \n",
       "\n",
       "             CancellationPercentage  AvgItemsPerOrder  \n",
       "Customer ID                                            \n",
       "13694                      1.676529       1182.046729  \n",
       "13902                      5.970149      27261.250000  \n",
       "14156                      2.289513        774.514493  \n",
       "14646                      1.654216       1967.988764  \n",
       "14911                      2.814259        242.888489  \n",
       "18102                      1.259843       1294.610526  "
      ]
     },
     "execution_count": 18,
     "metadata": {},
     "output_type": "execute_result"
    }
   ],
   "source": [
    "# Filtrer les clients du cluster 2\n",
    "cluster_2_clients = df_2009_2010[kmeans.labels_ == 2]\n",
    "cluster_2_clients"
   ]
  },
  {
   "attachments": {},
   "cell_type": "markdown",
   "metadata": {},
   "source": [
    "Les clients des clusters 1 et 2 sont trop peu nombreux et trop éloignes des autres clusters, on supprime les lignes correspondante (il faudrait une analyse métier plus approfondie pour déterminer s'il s'agit de valeurs abérrantes)"
   ]
  },
  {
   "cell_type": "code",
   "execution_count": 19,
   "metadata": {},
   "outputs": [],
   "source": [
    "df_2009_2010 = df_2009_2010.drop(cluster_1_clients.index)\n",
    "df_2009_2010 = df_2009_2010.drop(cluster_2_clients.index)"
   ]
  },
  {
   "cell_type": "code",
   "execution_count": null,
   "metadata": {},
   "outputs": [],
   "source": []
  },
  {
   "attachments": {},
   "cell_type": "markdown",
   "metadata": {},
   "source": [
    "On relance le clustering avec 3 clusters"
   ]
  },
  {
   "cell_type": "code",
   "execution_count": 20,
   "metadata": {},
   "outputs": [],
   "source": [
    "from sklearn.preprocessing import StandardScaler\n",
    "\n",
    "# Normaliser les valeurs RFM\n",
    "scaler = StandardScaler()\n",
    "rfm_normalized = scaler.fit_transform(df_2009_2010)"
   ]
  },
  {
   "cell_type": "code",
   "execution_count": 21,
   "metadata": {},
   "outputs": [],
   "source": [
    "kmeans = KMeans(n_clusters=3, init='k-means++', n_init=10, random_state=42)\n",
    "clusters = kmeans.fit_predict(rfm_normalized)"
   ]
  },
  {
   "cell_type": "code",
   "execution_count": 22,
   "metadata": {},
   "outputs": [],
   "source": [
    "from sklearn.decomposition import PCA\n",
    "\n",
    "pca = PCA(n_components=3, random_state=42)\n",
    "pca_data = pca.fit_transform(rfm_normalized)\n"
   ]
  },
  {
   "cell_type": "code",
   "execution_count": 23,
   "metadata": {},
   "outputs": [
    {
     "data": {
      "image/png": "[encoded data removed]",
      "text/plain": [
       "<Figure size 640x480 with 1 Axes>"
      ]
     },
     "metadata": {},
     "output_type": "display_data"
    }
   ],
   "source": [
    "# Scatter plot des composantes principales avec une couleur pour chaque cluster\n",
    "plt.scatter(pca_data[:,0],pca_data[:,1], c=kmeans.labels_)\n",
    "plt.xlabel('PC1')\n",
    "plt.ylabel('PC2')\n",
    "plt.title('ACP avec Clustering')\n",
    "plt.show()"
   ]
  },
  {
   "cell_type": "code",
   "execution_count": 24,
   "metadata": {},
   "outputs": [
    {
     "data": {
      "image/png": "[encoded data removed]",
      "text/plain": [
       "<Figure size 640x480 with 1 Axes>"
      ]
     },
     "metadata": {},
     "output_type": "display_data"
    }
   ],
   "source": [
    "fig = plt.figure()\n",
    "ax = fig.add_subplot(111, projection='3d')\n",
    "ax.scatter(pca_data[:, 0], pca_data[:, 1], pca_data[:, 2], c=clusters, cmap='viridis')\n",
    "ax.set_title(\"Visualisation des Clusters RFM avec PCA en 3D\")\n",
    "ax.set_xlabel(\"Dimension 1\")\n",
    "ax.set_ylabel(\"Dimension 2\")\n",
    "ax.set_zlabel(\"Dimension 3\")\n",
    "plt.show()"
   ]
  },
  {
   "cell_type": "code",
   "execution_count": 25,
   "metadata": {},
   "outputs": [
    {
     "name": "stdout",
     "output_type": "stream",
     "text": [
      "Cluster 0: 1077 points\n",
      "Cluster 1: 3272 points\n",
      "Cluster 2: 55 points\n"
     ]
    }
   ],
   "source": [
    "# Obtention du nombre de points par cluster\n",
    "nombre_points_par_cluster = np.bincount(kmeans.labels_)\n",
    "\n",
    "# Affichage des résultats\n",
    "for cluster, nombre_points in enumerate(nombre_points_par_cluster):\n",
    "    print(f\"Cluster {cluster}: {nombre_points} points\")\n"
   ]
  },
  {
   "cell_type": "code",
   "execution_count": 26,
   "metadata": {},
   "outputs": [
    {
     "data": {
      "text/html": [
       "<div>\n",
       "<style scoped>\n",
       "    .dataframe tbody tr th:only-of-type {\n",
       "        vertical-align: middle;\n",
       "    }\n",
       "\n",
       "    .dataframe tbody tr th {\n",
       "        vertical-align: top;\n",
       "    }\n",
       "\n",
       "    .dataframe thead tr th {\n",
       "        text-align: left;\n",
       "    }\n",
       "</style>\n",
       "<table border=\"1\" class=\"dataframe\">\n",
       "  <thead>\n",
       "    <tr>\n",
       "      <th></th>\n",
       "      <th colspan=\"8\" halign=\"left\">TotalInvoices</th>\n",
       "      <th colspan=\"2\" halign=\"left\">TotalQuantity</th>\n",
       "      <th>...</th>\n",
       "      <th colspan=\"2\" halign=\"left\">CancellationPercentage</th>\n",
       "      <th colspan=\"8\" halign=\"left\">AvgItemsPerOrder</th>\n",
       "    </tr>\n",
       "    <tr>\n",
       "      <th></th>\n",
       "      <th>count</th>\n",
       "      <th>mean</th>\n",
       "      <th>std</th>\n",
       "      <th>min</th>\n",
       "      <th>&lt;lambda_0&gt;</th>\n",
       "      <th>&lt;lambda_1&gt;</th>\n",
       "      <th>&lt;lambda_2&gt;</th>\n",
       "      <th>max</th>\n",
       "      <th>count</th>\n",
       "      <th>mean</th>\n",
       "      <th>...</th>\n",
       "      <th>&lt;lambda_2&gt;</th>\n",
       "      <th>max</th>\n",
       "      <th>count</th>\n",
       "      <th>mean</th>\n",
       "      <th>std</th>\n",
       "      <th>min</th>\n",
       "      <th>&lt;lambda_0&gt;</th>\n",
       "      <th>&lt;lambda_1&gt;</th>\n",
       "      <th>&lt;lambda_2&gt;</th>\n",
       "      <th>max</th>\n",
       "    </tr>\n",
       "  </thead>\n",
       "  <tbody>\n",
       "    <tr>\n",
       "      <th>0</th>\n",
       "      <td>1077</td>\n",
       "      <td>1.906221</td>\n",
       "      <td>1.577469</td>\n",
       "      <td>1</td>\n",
       "      <td>1.0</td>\n",
       "      <td>1.0</td>\n",
       "      <td>2.0</td>\n",
       "      <td>13</td>\n",
       "      <td>1077</td>\n",
       "      <td>232.933148</td>\n",
       "      <td>...</td>\n",
       "      <td>4.000000</td>\n",
       "      <td>100.000000</td>\n",
       "      <td>1077</td>\n",
       "      <td>131.977394</td>\n",
       "      <td>165.706092</td>\n",
       "      <td>-393.000000</td>\n",
       "      <td>39.500000</td>\n",
       "      <td>89.000000</td>\n",
       "      <td>167.000000</td>\n",
       "      <td>1658.0</td>\n",
       "    </tr>\n",
       "    <tr>\n",
       "      <th>1</th>\n",
       "      <td>3272</td>\n",
       "      <td>5.687958</td>\n",
       "      <td>5.935411</td>\n",
       "      <td>1</td>\n",
       "      <td>2.0</td>\n",
       "      <td>4.0</td>\n",
       "      <td>7.0</td>\n",
       "      <td>66</td>\n",
       "      <td>3272</td>\n",
       "      <td>961.540342</td>\n",
       "      <td>...</td>\n",
       "      <td>2.633315</td>\n",
       "      <td>50.000000</td>\n",
       "      <td>3272</td>\n",
       "      <td>183.178713</td>\n",
       "      <td>193.388385</td>\n",
       "      <td>0.000000</td>\n",
       "      <td>82.000000</td>\n",
       "      <td>133.933333</td>\n",
       "      <td>220.000000</td>\n",
       "      <td>3199.0</td>\n",
       "    </tr>\n",
       "    <tr>\n",
       "      <th>2</th>\n",
       "      <td>55</td>\n",
       "      <td>54.763636</td>\n",
       "      <td>41.929378</td>\n",
       "      <td>1</td>\n",
       "      <td>30.0</td>\n",
       "      <td>44.0</td>\n",
       "      <td>66.5</td>\n",
       "      <td>178</td>\n",
       "      <td>55</td>\n",
       "      <td>21015.636364</td>\n",
       "      <td>...</td>\n",
       "      <td>7.168916</td>\n",
       "      <td>24.175824</td>\n",
       "      <td>55</td>\n",
       "      <td>1103.450168</td>\n",
       "      <td>2675.184057</td>\n",
       "      <td>40.830357</td>\n",
       "      <td>211.183453</td>\n",
       "      <td>323.516129</td>\n",
       "      <td>897.855294</td>\n",
       "      <td>17766.0</td>\n",
       "    </tr>\n",
       "  </tbody>\n",
       "</table>\n",
       "<p>3 rows × 48 columns</p>\n",
       "</div>"
      ],
      "text/plain": [
       "  TotalInvoices                                                             \\\n",
       "          count       mean        std min <lambda_0> <lambda_1> <lambda_2>   \n",
       "0          1077   1.906221   1.577469   1        1.0        1.0        2.0   \n",
       "1          3272   5.687958   5.935411   1        2.0        4.0        7.0   \n",
       "2            55  54.763636  41.929378   1       30.0       44.0       66.5   \n",
       "\n",
       "       TotalQuantity                ... CancellationPercentage              \\\n",
       "   max         count          mean  ...             <lambda_2>         max   \n",
       "0   13          1077    232.933148  ...               4.000000  100.000000   \n",
       "1   66          3272    961.540342  ...               2.633315   50.000000   \n",
       "2  178            55  21015.636364  ...               7.168916   24.175824   \n",
       "\n",
       "  AvgItemsPerOrder                                                    \\\n",
       "             count         mean          std         min  <lambda_0>   \n",
       "0             1077   131.977394   165.706092 -393.000000   39.500000   \n",
       "1             3272   183.178713   193.388385    0.000000   82.000000   \n",
       "2               55  1103.450168  2675.184057   40.830357  211.183453   \n",
       "\n",
       "                                    \n",
       "   <lambda_1>  <lambda_2>      max  \n",
       "0   89.000000  167.000000   1658.0  \n",
       "1  133.933333  220.000000   3199.0  \n",
       "2  323.516129  897.855294  17766.0  \n",
       "\n",
       "[3 rows x 48 columns]"
      ]
     },
     "execution_count": 26,
     "metadata": {},
     "output_type": "execute_result"
    }
   ],
   "source": [
    "grouped_df = df_2009_2010.groupby(kmeans.labels_)\n",
    "cluster_stats = grouped_df.agg(['count', 'mean', 'std', 'min', lambda x: x.quantile(0.25), lambda x: x.quantile(0.5), lambda x: x.quantile(0.75), 'max'])\n",
    "cluster_stats"
   ]
  },
  {
   "cell_type": "code",
   "execution_count": 27,
   "metadata": {},
   "outputs": [
    {
     "data": {
      "text/html": [
       "<div>\n",
       "<style scoped>\n",
       "    .dataframe tbody tr th:only-of-type {\n",
       "        vertical-align: middle;\n",
       "    }\n",
       "\n",
       "    .dataframe tbody tr th {\n",
       "        vertical-align: top;\n",
       "    }\n",
       "\n",
       "    .dataframe thead th {\n",
       "        text-align: right;\n",
       "    }\n",
       "</style>\n",
       "<table border=\"1\" class=\"dataframe\">\n",
       "  <thead>\n",
       "    <tr style=\"text-align: right;\">\n",
       "      <th></th>\n",
       "      <th>TotalInvoices</th>\n",
       "      <th>TotalQuantity</th>\n",
       "      <th>TotalPrice</th>\n",
       "      <th>Recency</th>\n",
       "      <th>CancellationPercentage</th>\n",
       "      <th>AvgItemsPerOrder</th>\n",
       "    </tr>\n",
       "  </thead>\n",
       "  <tbody>\n",
       "    <tr>\n",
       "      <th>0</th>\n",
       "      <td>1.906221</td>\n",
       "      <td>232.933148</td>\n",
       "      <td>323.347849</td>\n",
       "      <td>252.470752</td>\n",
       "      <td>10.311052</td>\n",
       "      <td>131.977394</td>\n",
       "    </tr>\n",
       "    <tr>\n",
       "      <th>1</th>\n",
       "      <td>5.687958</td>\n",
       "      <td>961.540342</td>\n",
       "      <td>1662.870736</td>\n",
       "      <td>50.167482</td>\n",
       "      <td>2.391496</td>\n",
       "      <td>183.178713</td>\n",
       "    </tr>\n",
       "    <tr>\n",
       "      <th>2</th>\n",
       "      <td>54.763636</td>\n",
       "      <td>21015.636364</td>\n",
       "      <td>30631.256055</td>\n",
       "      <td>20.327273</td>\n",
       "      <td>5.404859</td>\n",
       "      <td>1103.450168</td>\n",
       "    </tr>\n",
       "  </tbody>\n",
       "</table>\n",
       "</div>"
      ],
      "text/plain": [
       "   TotalInvoices  TotalQuantity    TotalPrice     Recency  \\\n",
       "0       1.906221     232.933148    323.347849  252.470752   \n",
       "1       5.687958     961.540342   1662.870736   50.167482   \n",
       "2      54.763636   21015.636364  30631.256055   20.327273   \n",
       "\n",
       "   CancellationPercentage  AvgItemsPerOrder  \n",
       "0               10.311052        131.977394  \n",
       "1                2.391496        183.178713  \n",
       "2                5.404859       1103.450168  "
      ]
     },
     "execution_count": 27,
     "metadata": {},
     "output_type": "execute_result"
    }
   ],
   "source": [
    "cluster_mean = grouped_df.mean()\n",
    "cluster_mean"
   ]
  },
  {
   "cell_type": "code",
   "execution_count": 28,
   "metadata": {},
   "outputs": [
    {
     "name": "stdout",
     "output_type": "stream",
     "text": [
      "TotalInvoices: (1, 178)\n",
      "TotalQuantity: (-1535, 75823)\n",
      "TotalPrice: (-25111.09, 90683.9)\n",
      "Recency: (0, 387)\n",
      "CancellationPercentage: (0.0, 100.0)\n",
      "AvgItemsPerOrder: (-393.0, 17766.0)\n"
     ]
    }
   ],
   "source": [
    "# Création d'un dictionnaire pour stocker les plages de valeurs\n",
    "ranges = {}\n",
    "\n",
    "# Boucle sur les colonnes du DataFrame cluster_stats\n",
    "for column in cluster_stats.columns.levels[0]:\n",
    "    # Récupération des statistiques de la colonne\n",
    "    column_stats = cluster_stats[column]\n",
    "    \n",
    "    # Calcul des plages en fonction des statistiques\n",
    "    min_val = column_stats['min'].min()\n",
    "    max_val = column_stats['max'].max()\n",
    "    \n",
    "    # Ajout de la plage au dictionnaire\n",
    "    ranges[column] = (min_val, max_val)\n",
    "\n",
    "# Affichage des plages de valeurs\n",
    "for column, value_range in ranges.items():\n",
    "    print(f\"{column}: {value_range}\")\n"
   ]
  },
  {
   "cell_type": "code",
   "execution_count": 29,
   "metadata": {},
   "outputs": [
    {
     "data": {
      "text/html": [
       "<div>\n",
       "<style scoped>\n",
       "    .dataframe tbody tr th:only-of-type {\n",
       "        vertical-align: middle;\n",
       "    }\n",
       "\n",
       "    .dataframe tbody tr th {\n",
       "        vertical-align: top;\n",
       "    }\n",
       "\n",
       "    .dataframe thead th {\n",
       "        text-align: right;\n",
       "    }\n",
       "</style>\n",
       "<table border=\"1\" class=\"dataframe\">\n",
       "  <thead>\n",
       "    <tr style=\"text-align: right;\">\n",
       "      <th></th>\n",
       "      <th>TotalInvoices</th>\n",
       "      <th>TotalQuantity</th>\n",
       "      <th>TotalPrice</th>\n",
       "      <th>Recency</th>\n",
       "      <th>CancellationPercentage</th>\n",
       "      <th>AvgItemsPerOrder</th>\n",
       "    </tr>\n",
       "  </thead>\n",
       "  <tbody>\n",
       "    <tr>\n",
       "      <th>0</th>\n",
       "      <td>0.015360</td>\n",
       "      <td>0.068562</td>\n",
       "      <td>0.658952</td>\n",
       "      <td>1.957138</td>\n",
       "      <td>0.309332</td>\n",
       "      <td>0.086730</td>\n",
       "    </tr>\n",
       "    <tr>\n",
       "      <th>1</th>\n",
       "      <td>0.079457</td>\n",
       "      <td>0.096818</td>\n",
       "      <td>0.693656</td>\n",
       "      <td>0.388895</td>\n",
       "      <td>0.071745</td>\n",
       "      <td>0.095189</td>\n",
       "    </tr>\n",
       "    <tr>\n",
       "      <th>2</th>\n",
       "      <td>0.911248</td>\n",
       "      <td>0.874530</td>\n",
       "      <td>1.444165</td>\n",
       "      <td>0.157576</td>\n",
       "      <td>0.162146</td>\n",
       "      <td>0.247225</td>\n",
       "    </tr>\n",
       "  </tbody>\n",
       "</table>\n",
       "</div>"
      ],
      "text/plain": [
       "   TotalInvoices  TotalQuantity  TotalPrice   Recency  CancellationPercentage  \\\n",
       "0       0.015360       0.068562    0.658952  1.957138                0.309332   \n",
       "1       0.079457       0.096818    0.693656  0.388895                0.071745   \n",
       "2       0.911248       0.874530    1.444165  0.157576                0.162146   \n",
       "\n",
       "   AvgItemsPerOrder  \n",
       "0          0.086730  \n",
       "1          0.095189  \n",
       "2          0.247225  "
      ]
     },
     "execution_count": 29,
     "metadata": {},
     "output_type": "execute_result"
    }
   ],
   "source": [
    "# Création d'un dictionnaire pour stocker les plages de valeurs\n",
    "ranges = {}\n",
    "\n",
    "# Boucle sur les colonnes du DataFrame cluster_stats\n",
    "for column in cluster_stats.columns.levels[0]:\n",
    "    # Récupération des statistiques de la colonne\n",
    "    column_stats = cluster_stats[column]\n",
    "    \n",
    "    # Calcul des plages en fonction des statistiques\n",
    "    min_val = column_stats['min'].min()\n",
    "    max_val = column_stats['max'].max()\n",
    "    \n",
    "    # Ajout de la plage au dictionnaire\n",
    "    ranges[column] = (min_val, max_val)\n",
    "\n",
    "# Fonction de mise à l'échelle min-max\n",
    "def scale_value(value, min_val, max_val):\n",
    "    scaled_value = (value - min_val) / (max_val - min_val) * 3\n",
    "    return scaled_value\n",
    "\n",
    "# Création d'un nouveau DataFrame pour stocker les moyennes normalisées\n",
    "normalized_cluster_stats = pd.DataFrame(columns=cluster_stats.columns.levels[0])\n",
    "\n",
    "# Boucle sur les colonnes\n",
    "for column in cluster_stats.columns.levels[0]:\n",
    "    # Récupération des valeurs min et max de la colonne\n",
    "    min_val = ranges[column][0]\n",
    "    max_val = ranges[column][1]\n",
    "    \n",
    "    # Calcul de la moyenne normalisée de la colonne\n",
    "    scaled_mean = scale_value(cluster_stats[column]['mean'], min_val, max_val)\n",
    "    \n",
    "    # Ajout de la moyenne normalisée au nouveau DataFrame\n",
    "    normalized_cluster_stats[column] = scaled_mean\n",
    "\n",
    "# Affichage du nouveau DataFrame avec les moyennes normalisées\n",
    "normalized_cluster_stats\n"
   ]
  },
  {
   "cell_type": "code",
   "execution_count": 30,
   "metadata": {},
   "outputs": [
    {
     "data": {
      "application/vnd.plotly.v1+json": {
       "config": {
        "plotlyServerURL": "https://plot.ly"
       },
       "data": [
        {
         "fill": "toself",
         "name": "0",
         "r": [
          0.015359677698566325,
          0.0685617446533899,
          0.6589517693810502,
          1.9571376130940812,
          0.309331553836653,
          0.08673011623322412
         ],
         "subplot": "polar",
         "theta": [
          "TotalInvoices",
          "TotalQuantity",
          "TotalPrice",
          "Recency",
          "CancellationPercentage",
          "AvgItemsPerOrder"
         ],
         "type": "scatterpolar"
        },
        {
         "fill": "toself",
         "name": "1",
         "r": [
          0.07945692263064108,
          0.09681766626457336,
          0.6936559363045324,
          0.3888952066867573,
          0.07174487910663596,
          0.09518894972583414
         ],
         "subplot": "polar2",
         "theta": [
          "TotalInvoices",
          "TotalQuantity",
          "TotalPrice",
          "Recency",
          "CancellationPercentage",
          "AvgItemsPerOrder"
         ],
         "type": "scatterpolar"
        },
        {
         "fill": "toself",
         "name": "2",
         "r": [
          0.9112480739599385,
          0.8745302242936618,
          1.4441647100935575,
          0.1575757575757576,
          0.16214576350040222,
          0.2472245444987587
         ],
         "subplot": "polar3",
         "theta": [
          "TotalInvoices",
          "TotalQuantity",
          "TotalPrice",
          "Recency",
          "CancellationPercentage",
          "AvgItemsPerOrder"
         ],
         "type": "scatterpolar"
        }
       ],
       "layout": {
        "annotations": [
         {
          "font": {
           "size": 16
          },
          "showarrow": false,
          "text": "1",
          "x": 0.5,
          "xanchor": "center",
          "xref": "paper",
          "y": 1,
          "yanchor": "bottom",
          "yref": "paper"
         },
         {
          "font": {
           "size": 16
          },
          "showarrow": false,
          "text": "2",
          "x": 0.8555555555555556,
          "xanchor": "center",
          "xref": "paper",
          "y": 1,
          "yanchor": "bottom",
          "yref": "paper"
         }
        ],
        "height": 800,
        "polar": {
         "domain": {
          "x": [
           0,
           0.2888888888888889
          ],
          "y": [
           0.625,
           1
          ]
         },
         "radialaxis": {
          "range": [
           0,
           3
          ],
          "ticktext": [
           "0",
           "1",
           "2",
           "3"
          ],
          "tickvals": [
           0,
           1,
           2,
           3
          ],
          "visible": true
         }
        },
        "polar2": {
         "domain": {
          "x": [
           0.35555555555555557,
           0.6444444444444445
          ],
          "y": [
           0.625,
           1
          ]
         },
         "radialaxis": {
          "range": [
           0,
           3
          ],
          "ticktext": [
           "0",
           "1",
           "2",
           "3"
          ],
          "tickvals": [
           0,
           1,
           2,
           3
          ],
          "visible": true
         }
        },
        "polar3": {
         "domain": {
          "x": [
           0.7111111111111111,
           1
          ],
          "y": [
           0.625,
           1
          ]
         },
         "radialaxis": {
          "range": [
           0,
           3
          ],
          "ticktext": [
           "0",
           "1",
           "2",
           "3"
          ],
          "tickvals": [
           0,
           1,
           2,
           3
          ],
          "visible": true
         }
        },
        "polar4": {
         "domain": {
          "x": [
           0,
           0.2888888888888889
          ],
          "y": [
           0,
           0.375
          ]
         },
         "radialaxis": {
          "range": [
           0,
           3
          ],
          "ticktext": [
           "0",
           "1",
           "2",
           "3"
          ],
          "tickvals": [
           0,
           1,
           2,
           3
          ],
          "visible": true
         }
        },
        "polar5": {
         "domain": {
          "x": [
           0.35555555555555557,
           0.6444444444444445
          ],
          "y": [
           0,
           0.375
          ]
         },
         "radialaxis": {
          "range": [
           0,
           3
          ],
          "ticktext": [
           "0",
           "1",
           "2",
           "3"
          ],
          "tickvals": [
           0,
           1,
           2,
           3
          ],
          "visible": true
         }
        },
        "polar6": {
         "domain": {
          "x": [
           0.7111111111111111,
           1
          ],
          "y": [
           0,
           0.375
          ]
         },
         "radialaxis": {
          "range": [
           0,
           3
          ],
          "ticktext": [
           "0",
           "1",
           "2",
           "3"
          ],
          "tickvals": [
           0,
           1,
           2,
           3
          ],
          "visible": true
         }
        },
        "showlegend": false,
        "template": {
         "data": {
          "bar": [
           {
            "error_x": {
             "color": "#2a3f5f"
            },
            "error_y": {
             "color": "#2a3f5f"
            },
            "marker": {
             "line": {
              "color": "#E5ECF6",
              "width": 0.5
             },
             "pattern": {
              "fillmode": "overlay",
              "size": 10,
              "solidity": 0.2
             }
            },
            "type": "bar"
           }
          ],
          "barpolar": [
           {
            "marker": {
             "line": {
              "color": "#E5ECF6",
              "width": 0.5
             },
             "pattern": {
              "fillmode": "overlay",
              "size": 10,
              "solidity": 0.2
             }
            },
            "type": "barpolar"
           }
          ],
          "carpet": [
           {
            "aaxis": {
             "endlinecolor": "#2a3f5f",
             "gridcolor": "white",
             "linecolor": "white",
             "minorgridcolor": "white",
             "startlinecolor": "#2a3f5f"
            },
            "baxis": {
             "endlinecolor": "#2a3f5f",
             "gridcolor": "white",
             "linecolor": "white",
             "minorgridcolor": "white",
             "startlinecolor": "#2a3f5f"
            },
            "type": "carpet"
           }
          ],
          "choropleth": [
           {
            "colorbar": {
             "outlinewidth": 0,
             "ticks": ""
            },
            "type": "choropleth"
           }
          ],
          "contour": [
           {
            "colorbar": {
             "outlinewidth": 0,
             "ticks": ""
            },
            "colorscale": [
             [
              0,
              "#0d0887"
             ],
             [
              0.1111111111111111,
              "#46039f"
             ],
             [
              0.2222222222222222,
              "#7201a8"
             ],
             [
              0.3333333333333333,
              "#9c179e"
             ],
             [
              0.4444444444444444,
              "#bd3786"
             ],
             [
              0.5555555555555556,
              "#d8576b"
             ],
             [
              0.6666666666666666,
              "#ed7953"
             ],
             [
              0.7777777777777778,
              "#fb9f3a"
             ],
             [
              0.8888888888888888,
              "#fdca26"
             ],
             [
              1,
              "#f0f921"
             ]
            ],
            "type": "contour"
           }
          ],
          "contourcarpet": [
           {
            "colorbar": {
             "outlinewidth": 0,
             "ticks": ""
            },
            "type": "contourcarpet"
           }
          ],
          "heatmap": [
           {
            "colorbar": {
             "outlinewidth": 0,
             "ticks": ""
            },
            "colorscale": [
             [
              0,
              "#0d0887"
             ],
             [
              0.1111111111111111,
              "#46039f"
             ],
             [
              0.2222222222222222,
              "#7201a8"
             ],
             [
              0.3333333333333333,
              "#9c179e"
             ],
             [
              0.4444444444444444,
              "#bd3786"
             ],
             [
              0.5555555555555556,
              "#d8576b"
             ],
             [
              0.6666666666666666,
              "#ed7953"
             ],
             [
              0.7777777777777778,
              "#fb9f3a"
             ],
             [
              0.8888888888888888,
              "#fdca26"
             ],
             [
              1,
              "#f0f921"
             ]
            ],
            "type": "heatmap"
           }
          ],
          "heatmapgl": [
           {
            "colorbar": {
             "outlinewidth": 0,
             "ticks": ""
            },
            "colorscale": [
             [
              0,
              "#0d0887"
             ],
             [
              0.1111111111111111,
              "#46039f"
             ],
             [
              0.2222222222222222,
              "#7201a8"
             ],
             [
              0.3333333333333333,
              "#9c179e"
             ],
             [
              0.4444444444444444,
              "#bd3786"
             ],
             [
              0.5555555555555556,
              "#d8576b"
             ],
             [
              0.6666666666666666,
              "#ed7953"
             ],
             [
              0.7777777777777778,
              "#fb9f3a"
             ],
             [
              0.8888888888888888,
              "#fdca26"
             ],
             [
              1,
              "#f0f921"
             ]
            ],
            "type": "heatmapgl"
           }
          ],
          "histogram": [
           {
            "marker": {
             "pattern": {
              "fillmode": "overlay",
              "size": 10,
              "solidity": 0.2
             }
            },
            "type": "histogram"
           }
          ],
          "histogram2d": [
           {
            "colorbar": {
             "outlinewidth": 0,
             "ticks": ""
            },
            "colorscale": [
             [
              0,
              "#0d0887"
             ],
             [
              0.1111111111111111,
              "#46039f"
             ],
             [
              0.2222222222222222,
              "#7201a8"
             ],
             [
              0.3333333333333333,
              "#9c179e"
             ],
             [
              0.4444444444444444,
              "#bd3786"
             ],
             [
              0.5555555555555556,
              "#d8576b"
             ],
             [
              0.6666666666666666,
              "#ed7953"
             ],
             [
              0.7777777777777778,
              "#fb9f3a"
             ],
             [
              0.8888888888888888,
              "#fdca26"
             ],
             [
              1,
              "#f0f921"
             ]
            ],
            "type": "histogram2d"
           }
          ],
          "histogram2dcontour": [
           {
            "colorbar": {
             "outlinewidth": 0,
             "ticks": ""
            },
            "colorscale": [
             [
              0,
              "#0d0887"
             ],
             [
              0.1111111111111111,
              "#46039f"
             ],
             [
              0.2222222222222222,
              "#7201a8"
             ],
             [
              0.3333333333333333,
              "#9c179e"
             ],
             [
              0.4444444444444444,
              "#bd3786"
             ],
             [
              0.5555555555555556,
              "#d8576b"
             ],
             [
              0.6666666666666666,
              "#ed7953"
             ],
             [
              0.7777777777777778,
              "#fb9f3a"
             ],
             [
              0.8888888888888888,
              "#fdca26"
             ],
             [
              1,
              "#f0f921"
             ]
            ],
            "type": "histogram2dcontour"
           }
          ],
          "mesh3d": [
           {
            "colorbar": {
             "outlinewidth": 0,
             "ticks": ""
            },
            "type": "mesh3d"
           }
          ],
          "parcoords": [
           {
            "line": {
             "colorbar": {
              "outlinewidth": 0,
              "ticks": ""
             }
            },
            "type": "parcoords"
           }
          ],
          "pie": [
           {
            "automargin": true,
            "type": "pie"
           }
          ],
          "scatter": [
           {
            "fillpattern": {
             "fillmode": "overlay",
             "size": 10,
             "solidity": 0.2
            },
            "type": "scatter"
           }
          ],
          "scatter3d": [
           {
            "line": {
             "colorbar": {
              "outlinewidth": 0,
              "ticks": ""
             }
            },
            "marker": {
             "colorbar": {
              "outlinewidth": 0,
              "ticks": ""
             }
            },
            "type": "scatter3d"
           }
          ],
          "scattercarpet": [
           {
            "marker": {
             "colorbar": {
              "outlinewidth": 0,
              "ticks": ""
             }
            },
            "type": "scattercarpet"
           }
          ],
          "scattergeo": [
           {
            "marker": {
             "colorbar": {
              "outlinewidth": 0,
              "ticks": ""
             }
            },
            "type": "scattergeo"
           }
          ],
          "scattergl": [
           {
            "marker": {
             "colorbar": {
              "outlinewidth": 0,
              "ticks": ""
             }
            },
            "type": "scattergl"
           }
          ],
          "scattermapbox": [
           {
            "marker": {
             "colorbar": {
              "outlinewidth": 0,
              "ticks": ""
             }
            },
            "type": "scattermapbox"
           }
          ],
          "scatterpolar": [
           {
            "marker": {
             "colorbar": {
              "outlinewidth": 0,
              "ticks": ""
             }
            },
            "type": "scatterpolar"
           }
          ],
          "scatterpolargl": [
           {
            "marker": {
             "colorbar": {
              "outlinewidth": 0,
              "ticks": ""
             }
            },
            "type": "scatterpolargl"
           }
          ],
          "scatterternary": [
           {
            "marker": {
             "colorbar": {
              "outlinewidth": 0,
              "ticks": ""
             }
            },
            "type": "scatterternary"
           }
          ],
          "surface": [
           {
            "colorbar": {
             "outlinewidth": 0,
             "ticks": ""
            },
            "colorscale": [
             [
              0,
              "#0d0887"
             ],
             [
              0.1111111111111111,
              "#46039f"
             ],
             [
              0.2222222222222222,
              "#7201a8"
             ],
             [
              0.3333333333333333,
              "#9c179e"
             ],
             [
              0.4444444444444444,
              "#bd3786"
             ],
             [
              0.5555555555555556,
              "#d8576b"
             ],
             [
              0.6666666666666666,
              "#ed7953"
             ],
             [
              0.7777777777777778,
              "#fb9f3a"
             ],
             [
              0.8888888888888888,
              "#fdca26"
             ],
             [
              1,
              "#f0f921"
             ]
            ],
            "type": "surface"
           }
          ],
          "table": [
           {
            "cells": {
             "fill": {
              "color": "#EBF0F8"
             },
             "line": {
              "color": "white"
             }
            },
            "header": {
             "fill": {
              "color": "#C8D4E3"
             },
             "line": {
              "color": "white"
             }
            },
            "type": "table"
           }
          ]
         },
         "layout": {
          "annotationdefaults": {
           "arrowcolor": "#2a3f5f",
           "arrowhead": 0,
           "arrowwidth": 1
          },
          "autotypenumbers": "strict",
          "coloraxis": {
           "colorbar": {
            "outlinewidth": 0,
            "ticks": ""
           }
          },
          "colorscale": {
           "diverging": [
            [
             0,
             "#8e0152"
            ],
            [
             0.1,
             "#c51b7d"
            ],
            [
             0.2,
             "#de77ae"
            ],
            [
             0.3,
             "#f1b6da"
            ],
            [
             0.4,
             "#fde0ef"
            ],
            [
             0.5,
             "#f7f7f7"
            ],
            [
             0.6,
             "#e6f5d0"
            ],
            [
             0.7,
             "#b8e186"
            ],
            [
             0.8,
             "#7fbc41"
            ],
            [
             0.9,
             "#4d9221"
            ],
            [
             1,
             "#276419"
            ]
           ],
           "sequential": [
            [
             0,
             "#0d0887"
            ],
            [
             0.1111111111111111,
             "#46039f"
            ],
            [
             0.2222222222222222,
             "#7201a8"
            ],
            [
             0.3333333333333333,
             "#9c179e"
            ],
            [
             0.4444444444444444,
             "#bd3786"
            ],
            [
             0.5555555555555556,
             "#d8576b"
            ],
            [
             0.6666666666666666,
             "#ed7953"
            ],
            [
             0.7777777777777778,
             "#fb9f3a"
            ],
            [
             0.8888888888888888,
             "#fdca26"
            ],
            [
             1,
             "#f0f921"
            ]
           ],
           "sequentialminus": [
            [
             0,
             "#0d0887"
            ],
            [
             0.1111111111111111,
             "#46039f"
            ],
            [
             0.2222222222222222,
             "#7201a8"
            ],
            [
             0.3333333333333333,
             "#9c179e"
            ],
            [
             0.4444444444444444,
             "#bd3786"
            ],
            [
             0.5555555555555556,
             "#d8576b"
            ],
            [
             0.6666666666666666,
             "#ed7953"
            ],
            [
             0.7777777777777778,
             "#fb9f3a"
            ],
            [
             0.8888888888888888,
             "#fdca26"
            ],
            [
             1,
             "#f0f921"
            ]
           ]
          },
          "colorway": [
           "#636efa",
           "#EF553B",
           "#00cc96",
           "#ab63fa",
           "#FFA15A",
           "#19d3f3",
           "#FF6692",
           "#B6E880",
           "#FF97FF",
           "#FECB52"
          ],
          "font": {
           "color": "#2a3f5f"
          },
          "geo": {
           "bgcolor": "white",
           "lakecolor": "white",
           "landcolor": "#E5ECF6",
           "showlakes": true,
           "showland": true,
           "subunitcolor": "white"
          },
          "hoverlabel": {
           "align": "left"
          },
          "hovermode": "closest",
          "mapbox": {
           "style": "light"
          },
          "paper_bgcolor": "white",
          "plot_bgcolor": "#E5ECF6",
          "polar": {
           "angularaxis": {
            "gridcolor": "white",
            "linecolor": "white",
            "ticks": ""
           },
           "bgcolor": "#E5ECF6",
           "radialaxis": {
            "gridcolor": "white",
            "linecolor": "white",
            "ticks": ""
           }
          },
          "scene": {
           "xaxis": {
            "backgroundcolor": "#E5ECF6",
            "gridcolor": "white",
            "gridwidth": 2,
            "linecolor": "white",
            "showbackground": true,
            "ticks": "",
            "zerolinecolor": "white"
           },
           "yaxis": {
            "backgroundcolor": "#E5ECF6",
            "gridcolor": "white",
            "gridwidth": 2,
            "linecolor": "white",
            "showbackground": true,
            "ticks": "",
            "zerolinecolor": "white"
           },
           "zaxis": {
            "backgroundcolor": "#E5ECF6",
            "gridcolor": "white",
            "gridwidth": 2,
            "linecolor": "white",
            "showbackground": true,
            "ticks": "",
            "zerolinecolor": "white"
           }
          },
          "shapedefaults": {
           "line": {
            "color": "#2a3f5f"
           }
          },
          "ternary": {
           "aaxis": {
            "gridcolor": "white",
            "linecolor": "white",
            "ticks": ""
           },
           "baxis": {
            "gridcolor": "white",
            "linecolor": "white",
            "ticks": ""
           },
           "bgcolor": "#E5ECF6",
           "caxis": {
            "gridcolor": "white",
            "linecolor": "white",
            "ticks": ""
           }
          },
          "title": {
           "x": 0.05
          },
          "xaxis": {
           "automargin": true,
           "gridcolor": "white",
           "linecolor": "white",
           "ticks": "",
           "title": {
            "standoff": 15
           },
           "zerolinecolor": "white",
           "zerolinewidth": 2
          },
          "yaxis": {
           "automargin": true,
           "gridcolor": "white",
           "linecolor": "white",
           "ticks": "",
           "title": {
            "standoff": 15
           },
           "zerolinecolor": "white",
           "zerolinewidth": 2
          }
         }
        },
        "title": {
         "text": "Radar Plots par Cluster"
        },
        "width": 1200
       }
      }
     },
     "metadata": {},
     "output_type": "display_data"
    }
   ],
   "source": [
    "import plotly.graph_objects as go\n",
    "from plotly.subplots import make_subplots\n",
    "\n",
    "# Liste des clusters\n",
    "clusters = normalized_cluster_stats.index.tolist()\n",
    "\n",
    "# Création des sous-plots\n",
    "fig = make_subplots(rows=2, cols=3, subplot_titles=clusters, specs=[[{'type': 'polar'}, {'type': 'polar'}, {'type': 'polar'}], [{'type': 'polar'}, {'type': 'polar'}, {'type': 'polar'}]])\n",
    "\n",
    "# Parcours des clusters et création des radar plots pour la première ligne\n",
    "for i, cluster in enumerate(clusters[:3]):\n",
    "    data = normalized_cluster_stats.loc[cluster].values.tolist()\n",
    "    labels = normalized_cluster_stats.columns.tolist()\n",
    "    \n",
    "    fig.add_trace(\n",
    "        go.Scatterpolar(\n",
    "            r=data,\n",
    "            theta=labels,\n",
    "            fill='toself',\n",
    "            name=cluster\n",
    "        ),\n",
    "        row=1,\n",
    "        col=i+1\n",
    "    )\n",
    "\n",
    "# Parcours des clusters et création des radar plots pour la deuxième ligne\n",
    "for i, cluster in enumerate(clusters[3:]):\n",
    "    data = normalized_cluster_stats.loc[cluster].values.tolist()\n",
    "    labels = normalized_cluster_stats.columns.tolist()\n",
    "    \n",
    "    fig.add_trace(\n",
    "        go.Scatterpolar(\n",
    "            r=data,\n",
    "            theta=labels,\n",
    "            fill='toself',\n",
    "            name=cluster\n",
    "        ),\n",
    "        row=2,\n",
    "        col=i+1\n",
    "    )\n",
    "\n",
    "# Mise en forme du layout\n",
    "for row in range(1, 3):\n",
    "    for col in range(1, 4):\n",
    "        fig.update_polars(\n",
    "            row=row,\n",
    "            col=col,\n",
    "            radialaxis=dict(\n",
    "                visible=True,\n",
    "                range=[0, 3],  # Ajuster la plage en fonction de 0 à 3\n",
    "                tickvals=[0, 1, 2, 3],  # Valeurs entières pour les ticks\n",
    "                ticktext=['0', '1', '2', '3']  # Étiquettes des ticks en tant que valeurs entières\n",
    "            )\n",
    "        )\n",
    "\n",
    "fig.update_layout(\n",
    "    showlegend=False,\n",
    "    title_text='Radar Plots par Cluster',\n",
    "    height=800,  # Ajuster la hauteur de la figure\n",
    "    width=1200  # Ajuster la largeur de la figure\n",
    ")\n",
    "\n",
    "# Affichage du graphique\n",
    "fig.show()\n"
   ]
  }
 ],
 "metadata": {
  "kernelspec": {
   "display_name": "sklearn-env",
   "language": "python",
   "name": "python3"
  },
  "language_info": {
   "codemirror_mode": {
    "name": "ipython",
    "version": 3
   },
   "file_extension": ".py",
   "mimetype": "text/x-python",
   "name": "python",
   "nbconvert_exporter": "python",
   "pygments_lexer": "ipython3",
   "version": "3.10.8"
  },
  "orig_nbformat": 4,
  "vscode": {
   "interpreter": {
    "hash": "28ff26c65758d064959116f1d9c8fbca26d00c18c6d798db5e6a86c21bd645e4"
   }
  }
 },
 "nbformat": 4,
 "nbformat_minor": 2
}
